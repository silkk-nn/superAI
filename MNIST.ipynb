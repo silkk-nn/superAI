{
 "cells": [
  {
   "cell_type": "code",
   "execution_count": 10,
   "metadata": {},
   "outputs": [],
   "source": [
    "import tensorflow as tf\n",
    "import numpy as np\n",
    "(Xtrain, Ytrain), (Xtest, Ytest) = tf.keras.datasets.mnist.load_data()"
   ]
  },
  {
   "cell_type": "code",
   "execution_count": 11,
   "metadata": {},
   "outputs": [
    {
     "data": {
      "image/png": "[encoded data removed]",
      "text/plain": [
       "<Figure size 432x288 with 1 Axes>"
      ]
     },
     "metadata": {
      "needs_background": "light"
     },
     "output_type": "display_data"
    }
   ],
   "source": [
    "import matplotlib.pyplot as plt\n",
    "plt.imshow(Xtrain[5], cmap=\"gray\")\n",
    "plt.show()"
   ]
  },
  {
   "cell_type": "code",
   "execution_count": 13,
   "metadata": {},
   "outputs": [],
   "source": [
    "Xtrain = Xtrain.reshape(-1, 28*28)\n",
    "Xtest = Xtest.reshape(-1, 28*28)"
   ]
  },
  {
   "cell_type": "code",
   "execution_count": 14,
   "metadata": {},
   "outputs": [
    {
     "data": {
      "text/plain": [
       "(60000, 784)"
      ]
     },
     "execution_count": 14,
     "metadata": {},
     "output_type": "execute_result"
    }
   ],
   "source": [
    "Xtrain.shape"
   ]
  },
  {
   "cell_type": "code",
   "execution_count": 16,
   "metadata": {},
   "outputs": [],
   "source": [
    "##One-Hot endcoder\n",
    "def onehot(Y, nclass=10):\n",
    "    Y_ = np.zeros((Y.shape[0], nclass))\n",
    "    for i, y in enumerate(Y):\n",
    "        Y_[i, Y[i]] = 1\n",
    "    return Y_"
   ]
  },
  {
   "cell_type": "code",
   "execution_count": null,
   "metadata": {},
   "outputs": [],
   "source": [
    "##One-Hot with keras\n",
    "Y = tf.keras.utils.to_categorical(Y, num_class=10)"
   ]
  },
  {
   "cell_type": "code",
   "execution_count": 17,
   "metadata": {},
   "outputs": [],
   "source": [
    "Ytrain = onehot(Ytrain)\n",
    "Ytest = onehot(Ytest)"
   ]
  },
  {
   "cell_type": "code",
   "execution_count": 19,
   "metadata": {},
   "outputs": [
    {
     "data": {
      "text/plain": [
       "array([0., 0., 0., 0., 0., 1., 0., 0., 0., 0.])"
      ]
     },
     "execution_count": 19,
     "metadata": {},
     "output_type": "execute_result"
    }
   ],
   "source": [
    "Ytrain[0]"
   ]
  },
  {
   "cell_type": "code",
   "execution_count": 25,
   "metadata": {},
   "outputs": [
    {
     "name": "stdout",
     "output_type": "stream",
     "text": [
      "Epoch 1/50\n",
      "1875/1875 [==============================] - 5s 2ms/step - loss: 0.0895 - val_loss: 0.1784\n",
      "Epoch 2/50\n",
      "1875/1875 [==============================] - 4s 2ms/step - loss: 0.0890 - val_loss: 0.1761\n",
      "Epoch 3/50\n",
      "1875/1875 [==============================] - 4s 2ms/step - loss: 0.0886 - val_loss: 0.1718\n",
      "Epoch 4/50\n",
      "1875/1875 [==============================] - 4s 2ms/step - loss: 0.0882 - val_loss: 0.1663\n",
      "Epoch 5/50\n",
      "1875/1875 [==============================] - 4s 2ms/step - loss: 0.0877 - val_loss: 0.1588\n",
      "Epoch 6/50\n",
      "1875/1875 [==============================] - 4s 2ms/step - loss: 0.0872 - val_loss: 0.1500\n",
      "Epoch 7/50\n",
      "1875/1875 [==============================] - 4s 2ms/step - loss: 0.0867 - val_loss: 0.1408\n",
      "Epoch 8/50\n",
      "1875/1875 [==============================] - 4s 2ms/step - loss: 0.0862 - val_loss: 0.1324\n",
      "Epoch 9/50\n",
      "1875/1875 [==============================] - 5s 3ms/step - loss: 0.0856 - val_loss: 0.1247\n",
      "Epoch 10/50\n",
      "1875/1875 [==============================] - 4s 2ms/step - loss: 0.0849 - val_loss: 0.1182\n",
      "Epoch 11/50\n",
      "1875/1875 [==============================] - 4s 2ms/step - loss: 0.0842 - val_loss: 0.1123\n",
      "Epoch 12/50\n",
      "1875/1875 [==============================] - 4s 2ms/step - loss: 0.0835 - val_loss: 0.1078\n",
      "Epoch 13/50\n",
      "1875/1875 [==============================] - 4s 2ms/step - loss: 0.0827 - val_loss: 0.1032\n",
      "Epoch 14/50\n",
      "1875/1875 [==============================] - 4s 2ms/step - loss: 0.0818 - val_loss: 0.0990\n",
      "Epoch 15/50\n",
      "1875/1875 [==============================] - 4s 2ms/step - loss: 0.0809 - val_loss: 0.0951\n",
      "Epoch 16/50\n",
      "1875/1875 [==============================] - 4s 2ms/step - loss: 0.0799 - val_loss: 0.0911\n",
      "Epoch 17/50\n",
      "1875/1875 [==============================] - 4s 2ms/step - loss: 0.0789 - val_loss: 0.0876\n",
      "Epoch 18/50\n",
      "1875/1875 [==============================] - 4s 2ms/step - loss: 0.0778 - val_loss: 0.0838\n",
      "Epoch 19/50\n",
      "1875/1875 [==============================] - 4s 2ms/step - loss: 0.0767 - val_loss: 0.0799\n",
      "Epoch 20/50\n",
      "1875/1875 [==============================] - 4s 2ms/step - loss: 0.0755 - val_loss: 0.0766\n",
      "Epoch 21/50\n",
      "1875/1875 [==============================] - 4s 2ms/step - loss: 0.0742 - val_loss: 0.0735\n",
      "Epoch 22/50\n",
      "1875/1875 [==============================] - 4s 2ms/step - loss: 0.0729 - val_loss: 0.0707\n",
      "Epoch 23/50\n",
      "1875/1875 [==============================] - 4s 2ms/step - loss: 0.0716 - val_loss: 0.0687\n",
      "Epoch 24/50\n",
      "1875/1875 [==============================] - 4s 2ms/step - loss: 0.0701 - val_loss: 0.0670\n",
      "Epoch 25/50\n",
      "1875/1875 [==============================] - 4s 2ms/step - loss: 0.0687 - val_loss: 0.0656\n",
      "Epoch 26/50\n",
      "1875/1875 [==============================] - 4s 2ms/step - loss: 0.0671 - val_loss: 0.0641\n",
      "Epoch 27/50\n",
      "1875/1875 [==============================] - 4s 2ms/step - loss: 0.0656 - val_loss: 0.0628\n",
      "Epoch 28/50\n",
      "1875/1875 [==============================] - 4s 2ms/step - loss: 0.0640 - val_loss: 0.0618\n",
      "Epoch 29/50\n",
      "1875/1875 [==============================] - 4s 2ms/step - loss: 0.0624 - val_loss: 0.0607\n",
      "Epoch 30/50\n",
      "1875/1875 [==============================] - 4s 2ms/step - loss: 0.0608 - val_loss: 0.0596\n",
      "Epoch 31/50\n",
      "1875/1875 [==============================] - 4s 2ms/step - loss: 0.0591 - val_loss: 0.0586\n",
      "Epoch 32/50\n",
      "1875/1875 [==============================] - 5s 3ms/step - loss: 0.0575 - val_loss: 0.0576\n",
      "Epoch 33/50\n",
      "1875/1875 [==============================] - 5s 2ms/step - loss: 0.0560 - val_loss: 0.0566\n",
      "Epoch 34/50\n",
      "1875/1875 [==============================] - 4s 2ms/step - loss: 0.0544 - val_loss: 0.0554\n",
      "Epoch 35/50\n",
      "1875/1875 [==============================] - 4s 2ms/step - loss: 0.0529 - val_loss: 0.0542\n",
      "Epoch 36/50\n",
      "1875/1875 [==============================] - 4s 2ms/step - loss: 0.0515 - val_loss: 0.0529\n",
      "Epoch 37/50\n",
      "1875/1875 [==============================] - 4s 2ms/step - loss: 0.0501 - val_loss: 0.0515\n",
      "Epoch 38/50\n",
      "1875/1875 [==============================] - 4s 2ms/step - loss: 0.0488 - val_loss: 0.0500\n",
      "Epoch 39/50\n",
      "1875/1875 [==============================] - 4s 2ms/step - loss: 0.0475 - val_loss: 0.0487\n",
      "Epoch 40/50\n",
      "1875/1875 [==============================] - 4s 2ms/step - loss: 0.0462 - val_loss: 0.0472\n",
      "Epoch 41/50\n",
      "1875/1875 [==============================] - 4s 2ms/step - loss: 0.0450 - val_loss: 0.0458\n",
      "Epoch 42/50\n",
      "1875/1875 [==============================] - 4s 2ms/step - loss: 0.0439 - val_loss: 0.0443\n",
      "Epoch 43/50\n",
      "1875/1875 [==============================] - 4s 2ms/step - loss: 0.0428 - val_loss: 0.0426\n",
      "Epoch 44/50\n",
      "1875/1875 [==============================] - 4s 2ms/step - loss: 0.0417 - val_loss: 0.0411\n",
      "Epoch 45/50\n",
      "1875/1875 [==============================] - 4s 2ms/step - loss: 0.0407 - val_loss: 0.0396\n",
      "Epoch 46/50\n",
      "1875/1875 [==============================] - 4s 2ms/step - loss: 0.0397 - val_loss: 0.0382\n",
      "Epoch 47/50\n",
      "1875/1875 [==============================] - 4s 2ms/step - loss: 0.0387 - val_loss: 0.0370\n",
      "Epoch 48/50\n",
      "1875/1875 [==============================] - 4s 2ms/step - loss: 0.0378 - val_loss: 0.0361\n",
      "Epoch 49/50\n",
      "1875/1875 [==============================] - 5s 3ms/step - loss: 0.0370 - val_loss: 0.0352\n",
      "Epoch 50/50\n",
      "1875/1875 [==============================] - 5s 2ms/step - loss: 0.0362 - val_loss: 0.0344\n"
     ]
    },
    {
     "data": {
      "text/plain": [
       "<keras.callbacks.History at 0x274bc2394f0>"
      ]
     },
     "execution_count": 25,
     "metadata": {},
     "output_type": "execute_result"
    }
   ],
   "source": [
    "##768->200->200->10\n",
    "d_in = (Xtrain.shape[1], )\n",
    "model =  tf.keras.Sequential()\n",
    "model.add(tf.keras.layers.Dense(200, input_shape=d_in,\n",
    "                                activation='relu'))\n",
    "model.add(tf.keras.layers.Dense(200, activation='relu'))\n",
    "model.add(tf.keras.layers.Dense(10, activation='softmax'))\n",
    "model.compile(loss=tf.keras.losses.MeanSquaredError(),\n",
    "             optimizer=tf.keras.optimizers.SGD(learning_rate=0.001))\n",
    "\n",
    "model.fit(Xtrain/255., Ytrain, epochs=50, validation_data=(Xtest, Ytest))"
   ]
  },
  {
   "cell_type": "code",
   "execution_count": 26,
   "metadata": {},
   "outputs": [
    {
     "name": "stdout",
     "output_type": "stream",
     "text": [
      "0.8287\n"
     ]
    }
   ],
   "source": [
    "Z = model.predict(Xtest/255.)\n",
    "print(np.sum(Z.argmax(axis=1) == Ytest.argmax(axis=1))/len(Ytest))"
   ]
  },
  {
   "cell_type": "code",
   "execution_count": 24,
   "metadata": {},
   "outputs": [
    {
     "data": {
      "text/plain": [
       "array([0.01157775, 0.00789923, 0.01285616, 0.02487672, 0.03237733,\n",
       "       0.0139142 , 0.0088491 , 0.8008981 , 0.02429126, 0.06246012],\n",
       "      dtype=float32)"
      ]
     },
     "execution_count": 24,
     "metadata": {},
     "output_type": "execute_result"
    }
   ],
   "source": [
    "Z[0]"
   ]
  },
  {
   "cell_type": "code",
   "execution_count": null,
   "metadata": {},
   "outputs": [],
   "source": []
  }
 ],
 "metadata": {
  "kernelspec": {
   "display_name": "Python 3",
   "language": "python",
   "name": "python3"
  },
  "language_info": {
   "codemirror_mode": {
    "name": "ipython",
    "version": 3
   },
   "file_extension": ".py",
   "mimetype": "text/x-python",
   "name": "python",
   "nbconvert_exporter": "python",
   "pygments_lexer": "ipython3",
   "version": "3.8.5"
  }
 },
 "nbformat": 4,
 "nbformat_minor": 4
}
