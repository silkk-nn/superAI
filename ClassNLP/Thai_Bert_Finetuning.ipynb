{
  "nbformat": 4,
  "nbformat_minor": 0,
  "metadata": {
    "colab": {
      "name": "Thai Bert Finetuning",
      "provenance": [],
      "collapsed_sections": []
    },
    "kernelspec": {
      "name": "python3",
      "display_name": "Python 3"
    },
    "accelerator": "GPU"
  },
  "cells": [
    {
      "cell_type": "markdown",
      "metadata": {
        "id": "_36VrumOSggj"
      },
      "source": [
        "# Clone Bert and Wongnai Dataset Gits"
      ]
    },
    {
      "cell_type": "code",
      "metadata": {
        "id": "IJwd8hbFFy9Y",
        "outputId": "297eab90-e423-42e8-fb94-3598a9d7f95e",
        "colab": {
          "base_uri": "https://localhost:8080/",
          "height": 34
        }
      },
      "source": [
        "%tensorflow_version 1.x"
      ],
      "execution_count": null,
      "outputs": [
        {
          "output_type": "stream",
          "text": [
            "TensorFlow 1.x selected.\n"
          ],
          "name": "stdout"
        }
      ]
    },
    {
      "cell_type": "code",
      "metadata": {
        "id": "bbLmxZ-YQ0B6",
        "outputId": "4dd52624-445e-46eb-93e5-6de546c208b6",
        "colab": {
          "base_uri": "https://localhost:8080/",
          "height": 102
        }
      },
      "source": [
        "!git clone https://github.com/ThAIKeras/bert"
      ],
      "execution_count": null,
      "outputs": [
        {
          "output_type": "stream",
          "text": [
            "Cloning into 'bert'...\n",
            "remote: Enumerating objects: 275, done.\u001b[K\n",
            "remote: Total 275 (delta 0), reused 0 (delta 0), pack-reused 275\u001b[K\n",
            "Receiving objects: 100% (275/275), 201.44 KiB | 5.44 MiB/s, done.\n",
            "Resolving deltas: 100% (151/151), done.\n"
          ],
          "name": "stdout"
        }
      ]
    },
    {
      "cell_type": "code",
      "metadata": {
        "id": "ScTYFVRYRiy5",
        "outputId": "034127c0-ae92-4f1f-ab2a-37e05746bb7d",
        "colab": {
          "base_uri": "https://localhost:8080/",
          "height": 102
        }
      },
      "source": [
        "!git clone https://github.com/wongnai/wongnai-corpus.git"
      ],
      "execution_count": null,
      "outputs": [
        {
          "output_type": "stream",
          "text": [
            "Cloning into 'wongnai-corpus'...\n",
            "remote: Enumerating objects: 127, done.\u001b[K\n",
            "remote: Total 127 (delta 0), reused 0 (delta 0), pack-reused 127\u001b[K\n",
            "Receiving objects: 100% (127/127), 39.65 MiB | 40.32 MiB/s, done.\n",
            "Resolving deltas: 100% (45/45), done.\n"
          ],
          "name": "stdout"
        }
      ]
    },
    {
      "cell_type": "code",
      "metadata": {
        "id": "1DGDb2HoSyn8",
        "outputId": "5f2f9fc7-af7a-4db0-ca26-d1d1228b93c3",
        "colab": {
          "base_uri": "https://localhost:8080/",
          "height": 34
        }
      },
      "source": [
        "%cd wongnai-corpus/review/"
      ],
      "execution_count": null,
      "outputs": [
        {
          "output_type": "stream",
          "text": [
            "/content/wongnai-corpus/review\n"
          ],
          "name": "stdout"
        }
      ]
    },
    {
      "cell_type": "code",
      "metadata": {
        "id": "ce6DqMKFS05I",
        "outputId": "7e98a471-e132-436c-e59b-128ab9a887af",
        "colab": {
          "base_uri": "https://localhost:8080/",
          "height": 153
        }
      },
      "source": [
        "!unzip review_dataset.zip"
      ],
      "execution_count": null,
      "outputs": [
        {
          "output_type": "stream",
          "text": [
            "Archive:  review_dataset.zip\n",
            " extracting: sample_submission.csv   \n",
            "  inflating: test_file.csv           \n",
            "  inflating: w_review_train.csv      \n",
            "   creating: __MACOSX/\n",
            "  inflating: __MACOSX/._sample_submission.csv  \n",
            "  inflating: __MACOSX/._test_file.csv  \n",
            "  inflating: __MACOSX/._w_review_train.csv  \n"
          ],
          "name": "stdout"
        }
      ]
    },
    {
      "cell_type": "code",
      "metadata": {
        "id": "pw2lG4vkS44g",
        "outputId": "57e8eab3-848e-4e40-bbc2-8cc05fe3d64d",
        "colab": {
          "base_uri": "https://localhost:8080/",
          "height": 34
        }
      },
      "source": [
        "%cd ../.."
      ],
      "execution_count": null,
      "outputs": [
        {
          "output_type": "stream",
          "text": [
            "/content\n"
          ],
          "name": "stdout"
        }
      ]
    },
    {
      "cell_type": "markdown",
      "metadata": {
        "id": "vDS44NiESlPj"
      },
      "source": [
        "# Download Pre-train Model and SPM files"
      ]
    },
    {
      "cell_type": "code",
      "metadata": {
        "id": "JOu9zt0NRknz",
        "outputId": "737608ad-16d6-4024-b363-05e248cef06a",
        "colab": {
          "base_uri": "https://localhost:8080/",
          "height": 85
        }
      },
      "source": [
        "!gdown --id 1J3uuXZr_Se_XIFHj7zlTJ-C9wzI9W_ot"
      ],
      "execution_count": null,
      "outputs": [
        {
          "output_type": "stream",
          "text": [
            "Downloading...\n",
            "From: https://drive.google.com/uc?id=1J3uuXZr_Se_XIFHj7zlTJ-C9wzI9W_ot\n",
            "To: /content/bert_base_th.zip\n",
            "1.17GB [00:05, 228MB/s]\n"
          ],
          "name": "stdout"
        }
      ]
    },
    {
      "cell_type": "code",
      "metadata": {
        "id": "wctLaYDIRpSu",
        "outputId": "8cb70a72-cd1f-4751-d06a-342ca43b9898",
        "colab": {
          "base_uri": "https://localhost:8080/",
          "height": 85
        }
      },
      "source": [
        "!gdown --id 1F7pCgt3vPlarI9RxKtOZUrC_67KMNQ1W"
      ],
      "execution_count": null,
      "outputs": [
        {
          "output_type": "stream",
          "text": [
            "Downloading...\n",
            "From: https://drive.google.com/uc?id=1F7pCgt3vPlarI9RxKtOZUrC_67KMNQ1W\n",
            "To: /content/th_wiki_bpe.zip\n",
            "\r  0% 0.00/560k [00:00<?, ?B/s]\r100% 560k/560k [00:00<00:00, 36.3MB/s]\n"
          ],
          "name": "stdout"
        }
      ]
    },
    {
      "cell_type": "code",
      "metadata": {
        "id": "mOJvNLRSSbVK",
        "outputId": "1d3d07ee-c241-4a20-fc0a-75daa8836b94",
        "colab": {
          "base_uri": "https://localhost:8080/",
          "height": 170
        }
      },
      "source": [
        "!unzip bert_base_th.zip\n",
        "!unzip th_wiki_bpe.zip"
      ],
      "execution_count": null,
      "outputs": [
        {
          "output_type": "stream",
          "text": [
            "Archive:  bert_base_th.zip\n",
            "   creating: bert_base_th/\n",
            "  inflating: bert_base_th/model.ckpt.index  \n",
            "  inflating: bert_base_th/model.ckpt.meta  \n",
            "  inflating: bert_base_th/bert_config.json  \n",
            "  inflating: bert_base_th/model.ckpt.data-00000-of-00001  \n",
            "Archive:  th_wiki_bpe.zip\n",
            "  inflating: th.wiki.bpe.op25000.model  \n",
            "  inflating: th.wiki.bpe.op25000.vocab  \n"
          ],
          "name": "stdout"
        }
      ]
    },
    {
      "cell_type": "markdown",
      "metadata": {
        "id": "3qITozrgTALM"
      },
      "source": [
        "# Load extra library"
      ]
    },
    {
      "cell_type": "code",
      "metadata": {
        "id": "S0lXOZTVRs9v",
        "outputId": "7a76a534-b7d5-43a6-d8bc-202d75adce0e",
        "colab": {
          "base_uri": "https://localhost:8080/",
          "height": 102
        }
      },
      "source": [
        "!pip install sentencepiece"
      ],
      "execution_count": null,
      "outputs": [
        {
          "output_type": "stream",
          "text": [
            "Collecting sentencepiece\n",
            "\u001b[?25l  Downloading https://files.pythonhosted.org/packages/e5/2d/6d4ca4bef9a67070fa1cac508606328329152b1df10bdf31fb6e4e727894/sentencepiece-0.1.94-cp36-cp36m-manylinux2014_x86_64.whl (1.1MB)\n",
            "\r\u001b[K     |▎                               | 10kB 21.6MB/s eta 0:00:01\r\u001b[K     |▋                               | 20kB 3.0MB/s eta 0:00:01\r\u001b[K     |▉                               | 30kB 4.0MB/s eta 0:00:01\r\u001b[K     |█▏                              | 40kB 3.1MB/s eta 0:00:01\r\u001b[K     |█▌                              | 51kB 3.8MB/s eta 0:00:01\r\u001b[K     |█▊                              | 61kB 4.3MB/s eta 0:00:01\r\u001b[K     |██                              | 71kB 4.7MB/s eta 0:00:01\r\u001b[K     |██▍                             | 81kB 5.1MB/s eta 0:00:01\r\u001b[K     |██▋                             | 92kB 5.5MB/s eta 0:00:01\r\u001b[K     |███                             | 102kB 5.3MB/s eta 0:00:01\r\u001b[K     |███▎                            | 112kB 5.3MB/s eta 0:00:01\r\u001b[K     |███▌                            | 122kB 5.3MB/s eta 0:00:01\r\u001b[K     |███▉                            | 133kB 5.3MB/s eta 0:00:01\r\u001b[K     |████▏                           | 143kB 5.3MB/s eta 0:00:01\r\u001b[K     |████▍                           | 153kB 5.3MB/s eta 0:00:01\r\u001b[K     |████▊                           | 163kB 5.3MB/s eta 0:00:01\r\u001b[K     |█████                           | 174kB 5.3MB/s eta 0:00:01\r\u001b[K     |█████▎                          | 184kB 5.3MB/s eta 0:00:01\r\u001b[K     |█████▋                          | 194kB 5.3MB/s eta 0:00:01\r\u001b[K     |█████▉                          | 204kB 5.3MB/s eta 0:00:01\r\u001b[K     |██████▏                         | 215kB 5.3MB/s eta 0:00:01\r\u001b[K     |██████▌                         | 225kB 5.3MB/s eta 0:00:01\r\u001b[K     |██████▊                         | 235kB 5.3MB/s eta 0:00:01\r\u001b[K     |███████                         | 245kB 5.3MB/s eta 0:00:01\r\u001b[K     |███████▍                        | 256kB 5.3MB/s eta 0:00:01\r\u001b[K     |███████▋                        | 266kB 5.3MB/s eta 0:00:01\r\u001b[K     |████████                        | 276kB 5.3MB/s eta 0:00:01\r\u001b[K     |████████▎                       | 286kB 5.3MB/s eta 0:00:01\r\u001b[K     |████████▌                       | 296kB 5.3MB/s eta 0:00:01\r\u001b[K     |████████▉                       | 307kB 5.3MB/s eta 0:00:01\r\u001b[K     |█████████                       | 317kB 5.3MB/s eta 0:00:01\r\u001b[K     |█████████▍                      | 327kB 5.3MB/s eta 0:00:01\r\u001b[K     |█████████▊                      | 337kB 5.3MB/s eta 0:00:01\r\u001b[K     |██████████                      | 348kB 5.3MB/s eta 0:00:01\r\u001b[K     |██████████▎                     | 358kB 5.3MB/s eta 0:00:01\r\u001b[K     |██████████▋                     | 368kB 5.3MB/s eta 0:00:01\r\u001b[K     |██████████▉                     | 378kB 5.3MB/s eta 0:00:01\r\u001b[K     |███████████▏                    | 389kB 5.3MB/s eta 0:00:01\r\u001b[K     |███████████▌                    | 399kB 5.3MB/s eta 0:00:01\r\u001b[K     |███████████▊                    | 409kB 5.3MB/s eta 0:00:01\r\u001b[K     |████████████                    | 419kB 5.3MB/s eta 0:00:01\r\u001b[K     |████████████▍                   | 430kB 5.3MB/s eta 0:00:01\r\u001b[K     |████████████▋                   | 440kB 5.3MB/s eta 0:00:01\r\u001b[K     |█████████████                   | 450kB 5.3MB/s eta 0:00:01\r\u001b[K     |█████████████▎                  | 460kB 5.3MB/s eta 0:00:01\r\u001b[K     |█████████████▌                  | 471kB 5.3MB/s eta 0:00:01\r\u001b[K     |█████████████▉                  | 481kB 5.3MB/s eta 0:00:01\r\u001b[K     |██████████████                  | 491kB 5.3MB/s eta 0:00:01\r\u001b[K     |██████████████▍                 | 501kB 5.3MB/s eta 0:00:01\r\u001b[K     |██████████████▊                 | 512kB 5.3MB/s eta 0:00:01\r\u001b[K     |███████████████                 | 522kB 5.3MB/s eta 0:00:01\r\u001b[K     |███████████████▎                | 532kB 5.3MB/s eta 0:00:01\r\u001b[K     |███████████████▋                | 542kB 5.3MB/s eta 0:00:01\r\u001b[K     |███████████████▉                | 552kB 5.3MB/s eta 0:00:01\r\u001b[K     |████████████████▏               | 563kB 5.3MB/s eta 0:00:01\r\u001b[K     |████████████████▌               | 573kB 5.3MB/s eta 0:00:01\r\u001b[K     |████████████████▊               | 583kB 5.3MB/s eta 0:00:01\r\u001b[K     |█████████████████               | 593kB 5.3MB/s eta 0:00:01\r\u001b[K     |█████████████████▍              | 604kB 5.3MB/s eta 0:00:01\r\u001b[K     |█████████████████▋              | 614kB 5.3MB/s eta 0:00:01\r\u001b[K     |██████████████████              | 624kB 5.3MB/s eta 0:00:01\r\u001b[K     |██████████████████▏             | 634kB 5.3MB/s eta 0:00:01\r\u001b[K     |██████████████████▌             | 645kB 5.3MB/s eta 0:00:01\r\u001b[K     |██████████████████▉             | 655kB 5.3MB/s eta 0:00:01\r\u001b[K     |███████████████████             | 665kB 5.3MB/s eta 0:00:01\r\u001b[K     |███████████████████▍            | 675kB 5.3MB/s eta 0:00:01\r\u001b[K     |███████████████████▊            | 686kB 5.3MB/s eta 0:00:01\r\u001b[K     |████████████████████            | 696kB 5.3MB/s eta 0:00:01\r\u001b[K     |████████████████████▎           | 706kB 5.3MB/s eta 0:00:01\r\u001b[K     |████████████████████▋           | 716kB 5.3MB/s eta 0:00:01\r\u001b[K     |████████████████████▉           | 727kB 5.3MB/s eta 0:00:01\r\u001b[K     |█████████████████████▏          | 737kB 5.3MB/s eta 0:00:01\r\u001b[K     |█████████████████████▌          | 747kB 5.3MB/s eta 0:00:01\r\u001b[K     |█████████████████████▊          | 757kB 5.3MB/s eta 0:00:01\r\u001b[K     |██████████████████████          | 768kB 5.3MB/s eta 0:00:01\r\u001b[K     |██████████████████████▎         | 778kB 5.3MB/s eta 0:00:01\r\u001b[K     |██████████████████████▋         | 788kB 5.3MB/s eta 0:00:01\r\u001b[K     |███████████████████████         | 798kB 5.3MB/s eta 0:00:01\r\u001b[K     |███████████████████████▏        | 808kB 5.3MB/s eta 0:00:01\r\u001b[K     |███████████████████████▌        | 819kB 5.3MB/s eta 0:00:01\r\u001b[K     |███████████████████████▉        | 829kB 5.3MB/s eta 0:00:01\r\u001b[K     |████████████████████████        | 839kB 5.3MB/s eta 0:00:01\r\u001b[K     |████████████████████████▍       | 849kB 5.3MB/s eta 0:00:01\r\u001b[K     |████████████████████████▊       | 860kB 5.3MB/s eta 0:00:01\r\u001b[K     |█████████████████████████       | 870kB 5.3MB/s eta 0:00:01\r\u001b[K     |█████████████████████████▎      | 880kB 5.3MB/s eta 0:00:01\r\u001b[K     |█████████████████████████▋      | 890kB 5.3MB/s eta 0:00:01\r\u001b[K     |█████████████████████████▉      | 901kB 5.3MB/s eta 0:00:01\r\u001b[K     |██████████████████████████▏     | 911kB 5.3MB/s eta 0:00:01\r\u001b[K     |██████████████████████████▌     | 921kB 5.3MB/s eta 0:00:01\r\u001b[K     |██████████████████████████▊     | 931kB 5.3MB/s eta 0:00:01\r\u001b[K     |███████████████████████████     | 942kB 5.3MB/s eta 0:00:01\r\u001b[K     |███████████████████████████▎    | 952kB 5.3MB/s eta 0:00:01\r\u001b[K     |███████████████████████████▋    | 962kB 5.3MB/s eta 0:00:01\r\u001b[K     |████████████████████████████    | 972kB 5.3MB/s eta 0:00:01\r\u001b[K     |████████████████████████████▏   | 983kB 5.3MB/s eta 0:00:01\r\u001b[K     |████████████████████████████▌   | 993kB 5.3MB/s eta 0:00:01\r\u001b[K     |████████████████████████████▉   | 1.0MB 5.3MB/s eta 0:00:01\r\u001b[K     |█████████████████████████████   | 1.0MB 5.3MB/s eta 0:00:01\r\u001b[K     |█████████████████████████████▍  | 1.0MB 5.3MB/s eta 0:00:01\r\u001b[K     |█████████████████████████████▊  | 1.0MB 5.3MB/s eta 0:00:01\r\u001b[K     |██████████████████████████████  | 1.0MB 5.3MB/s eta 0:00:01\r\u001b[K     |██████████████████████████████▎ | 1.1MB 5.3MB/s eta 0:00:01\r\u001b[K     |██████████████████████████████▋ | 1.1MB 5.3MB/s eta 0:00:01\r\u001b[K     |██████████████████████████████▉ | 1.1MB 5.3MB/s eta 0:00:01\r\u001b[K     |███████████████████████████████▏| 1.1MB 5.3MB/s eta 0:00:01\r\u001b[K     |███████████████████████████████▍| 1.1MB 5.3MB/s eta 0:00:01\r\u001b[K     |███████████████████████████████▊| 1.1MB 5.3MB/s eta 0:00:01\r\u001b[K     |████████████████████████████████| 1.1MB 5.3MB/s \n",
            "\u001b[?25hInstalling collected packages: sentencepiece\n",
            "Successfully installed sentencepiece-0.1.94\n"
          ],
          "name": "stdout"
        }
      ]
    },
    {
      "cell_type": "markdown",
      "metadata": {
        "id": "uO99WYZyTIPC"
      },
      "source": [
        "# Make Output Directory"
      ]
    },
    {
      "cell_type": "code",
      "metadata": {
        "id": "C4ageNxZTK0E"
      },
      "source": [
        "!mkdir output"
      ],
      "execution_count": null,
      "outputs": []
    },
    {
      "cell_type": "markdown",
      "metadata": {
        "id": "utQwzYMDTOkG"
      },
      "source": [
        "# Fine tuning (20 minutes running on GPU)"
      ]
    },
    {
      "cell_type": "code",
      "metadata": {
        "id": "u4jX4mhnTOAl"
      },
      "source": [
        "import os\n",
        "os.environ['BPE_DIR'] = \"/content\"\n",
        "os.environ['WONGNAI_DIR'] = \"/content/wongnai-corpus/review\"\n",
        "os.environ['OUTPUT_DIR'] = \"/content/output\"\n",
        "os.environ['BERT_BASE_DIR'] = \"/content/bert_base_th\""
      ],
      "execution_count": null,
      "outputs": []
    },
    {
      "cell_type": "code",
      "metadata": {
        "id": "BVjAgu_TTSEu",
        "outputId": "d65f2ddc-f1c6-4bfd-bd6c-a9483f57f9d7",
        "colab": {
          "base_uri": "https://localhost:8080/",
          "height": 1000
        }
      },
      "source": [
        "# train with GPU\n",
        "!python bert/run_classifier.py \\\n",
        "  --task_name=wongnai \\\n",
        "  --do_train=false \\\n",
        "  --do_predict=true \\\n",
        "  --data_dir=$WONGNAI_DIR \\\n",
        "  --vocab_file=$BPE_DIR/th.wiki.bpe.op25000.vocab \\\n",
        "  --bert_config_file=$BERT_BASE_DIR/bert_config.json \\\n",
        "  --init_checkpoint=$BERT_BASE_DIR/model.ckpt \\\n",
        "  --max_seq_length=128 \\\n",
        "  --train_batch_size=32 \\\n",
        "  --learning_rate=5e-5 \\\n",
        "  --num_train_epochs=2.0 \\\n",
        "  --output_dir=$OUTPUT_DIR \\\n",
        "  --spm_file=$BPE_DIR/th.wiki.bpe.op25000.model"
      ],
      "execution_count": null,
      "outputs": [
        {
          "output_type": "stream",
          "text": [
            "WARNING:tensorflow:From /content/bert/optimization.py:84: The name tf.train.Optimizer is deprecated. Please use tf.compat.v1.train.Optimizer instead.\n",
            "\n",
            "WARNING:tensorflow:From bert/run_classifier.py:976: The name tf.app.run is deprecated. Please use tf.compat.v1.app.run instead.\n",
            "\n",
            "WARNING:tensorflow:From bert/run_classifier.py:796: The name tf.logging.set_verbosity is deprecated. Please use tf.compat.v1.logging.set_verbosity instead.\n",
            "\n",
            "W1025 08:16:08.470254 140687029254016 module_wrapper.py:139] From bert/run_classifier.py:796: The name tf.logging.set_verbosity is deprecated. Please use tf.compat.v1.logging.set_verbosity instead.\n",
            "\n",
            "WARNING:tensorflow:From bert/run_classifier.py:796: The name tf.logging.INFO is deprecated. Please use tf.compat.v1.logging.INFO instead.\n",
            "\n",
            "W1025 08:16:08.470440 140687029254016 module_wrapper.py:139] From bert/run_classifier.py:796: The name tf.logging.INFO is deprecated. Please use tf.compat.v1.logging.INFO instead.\n",
            "\n",
            "WARNING:tensorflow:From /content/bert/modeling.py:92: The name tf.gfile.GFile is deprecated. Please use tf.io.gfile.GFile instead.\n",
            "\n",
            "W1025 08:16:08.470608 140687029254016 module_wrapper.py:139] From /content/bert/modeling.py:92: The name tf.gfile.GFile is deprecated. Please use tf.io.gfile.GFile instead.\n",
            "\n",
            "WARNING:tensorflow:From bert/run_classifier.py:818: The name tf.gfile.MakeDirs is deprecated. Please use tf.io.gfile.makedirs instead.\n",
            "\n",
            "W1025 08:16:08.471279 140687029254016 module_wrapper.py:139] From bert/run_classifier.py:818: The name tf.gfile.MakeDirs is deprecated. Please use tf.io.gfile.makedirs instead.\n",
            "\n",
            "WARNING:tensorflow:\n",
            "The TensorFlow contrib module will not be included in TensorFlow 2.0.\n",
            "For more information, please see:\n",
            "  * https://github.com/tensorflow/community/blob/master/rfcs/20180907-contrib-sunset.md\n",
            "  * https://github.com/tensorflow/addons\n",
            "  * https://github.com/tensorflow/io (for I/O related ops)\n",
            "If you depend on functionality not listed there, please file an issue.\n",
            "\n",
            "W1025 08:16:08.579251 140687029254016 lazy_loader.py:50] \n",
            "The TensorFlow contrib module will not be included in TensorFlow 2.0.\n",
            "For more information, please see:\n",
            "  * https://github.com/tensorflow/community/blob/master/rfcs/20180907-contrib-sunset.md\n",
            "  * https://github.com/tensorflow/addons\n",
            "  * https://github.com/tensorflow/io (for I/O related ops)\n",
            "If you depend on functionality not listed there, please file an issue.\n",
            "\n",
            "I1025 08:16:09.319283 140687029254016 utils.py:141] NumExpr defaulting to 2 threads.\n",
            "WARNING:tensorflow:Estimator's model_fn (<function model_fn_builder.<locals>.model_fn at 0x7ff3dabe62f0>) includes params argument, but params are not passed to Estimator.\n",
            "W1025 08:16:10.197091 140687029254016 estimator.py:1994] Estimator's model_fn (<function model_fn_builder.<locals>.model_fn at 0x7ff3dabe62f0>) includes params argument, but params are not passed to Estimator.\n",
            "INFO:tensorflow:Using config: {'_model_dir': '/content/output', '_tf_random_seed': None, '_save_summary_steps': 100, '_save_checkpoints_steps': 1000, '_save_checkpoints_secs': None, '_session_config': allow_soft_placement: true\n",
            "graph_options {\n",
            "  rewrite_options {\n",
            "    meta_optimizer_iterations: ONE\n",
            "  }\n",
            "}\n",
            ", '_keep_checkpoint_max': 5, '_keep_checkpoint_every_n_hours': 10000, '_log_step_count_steps': None, '_train_distribute': None, '_device_fn': None, '_protocol': None, '_eval_distribute': None, '_experimental_distribute': None, '_experimental_max_worker_delay_secs': None, '_session_creation_timeout_secs': 7200, '_service': None, '_cluster_spec': <tensorflow.python.training.server_lib.ClusterSpec object at 0x7ff3dac0c828>, '_task_type': 'worker', '_task_id': 0, '_global_id_in_cluster': 0, '_master': '', '_evaluation_master': '', '_is_chief': True, '_num_ps_replicas': 0, '_num_worker_replicas': 1, '_tpu_config': TPUConfig(iterations_per_loop=1000, num_shards=8, num_cores_per_replica=None, per_host_input_for_training=3, tpu_job_name=None, initial_infeed_sleep_secs=None, input_partition_dims=None, eval_training_input_configuration=2, experimental_host_call_every_n_steps=1), '_cluster': None}\n",
            "I1025 08:16:10.198203 140687029254016 estimator.py:212] Using config: {'_model_dir': '/content/output', '_tf_random_seed': None, '_save_summary_steps': 100, '_save_checkpoints_steps': 1000, '_save_checkpoints_secs': None, '_session_config': allow_soft_placement: true\n",
            "graph_options {\n",
            "  rewrite_options {\n",
            "    meta_optimizer_iterations: ONE\n",
            "  }\n",
            "}\n",
            ", '_keep_checkpoint_max': 5, '_keep_checkpoint_every_n_hours': 10000, '_log_step_count_steps': None, '_train_distribute': None, '_device_fn': None, '_protocol': None, '_eval_distribute': None, '_experimental_distribute': None, '_experimental_max_worker_delay_secs': None, '_session_creation_timeout_secs': 7200, '_service': None, '_cluster_spec': <tensorflow.python.training.server_lib.ClusterSpec object at 0x7ff3dac0c828>, '_task_type': 'worker', '_task_id': 0, '_global_id_in_cluster': 0, '_master': '', '_evaluation_master': '', '_is_chief': True, '_num_ps_replicas': 0, '_num_worker_replicas': 1, '_tpu_config': TPUConfig(iterations_per_loop=1000, num_shards=8, num_cores_per_replica=None, per_host_input_for_training=3, tpu_job_name=None, initial_infeed_sleep_secs=None, input_partition_dims=None, eval_training_input_configuration=2, experimental_host_call_every_n_steps=1), '_cluster': None}\n",
            "INFO:tensorflow:_TPUContext: eval_on_tpu True\n",
            "I1025 08:16:10.198454 140687029254016 tpu_context.py:220] _TPUContext: eval_on_tpu True\n",
            "WARNING:tensorflow:eval_on_tpu ignored because use_tpu is False.\n",
            "W1025 08:16:10.198917 140687029254016 tpu_context.py:222] eval_on_tpu ignored because use_tpu is False.\n",
            "WARNING:tensorflow:From bert/run_classifier.py:386: The name tf.gfile.Open is deprecated. Please use tf.io.gfile.GFile instead.\n",
            "\n",
            "W1025 08:16:10.199098 140687029254016 module_wrapper.py:139] From bert/run_classifier.py:386: The name tf.gfile.Open is deprecated. Please use tf.io.gfile.GFile instead.\n",
            "\n",
            "WARNING:tensorflow:From bert/run_classifier.py:508: The name tf.python_io.TFRecordWriter is deprecated. Please use tf.io.TFRecordWriter instead.\n",
            "\n",
            "W1025 08:16:10.386348 140687029254016 module_wrapper.py:139] From bert/run_classifier.py:508: The name tf.python_io.TFRecordWriter is deprecated. Please use tf.io.TFRecordWriter instead.\n",
            "\n",
            "WARNING:tensorflow:From bert/run_classifier.py:512: The name tf.logging.info is deprecated. Please use tf.compat.v1.logging.info instead.\n",
            "\n",
            "W1025 08:16:10.386761 140687029254016 module_wrapper.py:139] From bert/run_classifier.py:512: The name tf.logging.info is deprecated. Please use tf.compat.v1.logging.info instead.\n",
            "\n",
            "INFO:tensorflow:Writing example 0 of 6203\n",
            "I1025 08:16:10.386927 140687029254016 run_classifier.py:512] Writing example 0 of 6203\n",
            "INFO:tensorflow:*** Example ***\n",
            "I1025 08:16:10.398998 140687029254016 run_classifier.py:487] *** Example ***\n",
            "INFO:tensorflow:guid: test-1\n",
            "I1025 08:16:10.399145 140687029254016 run_classifier.py:488] guid: test-1\n",
            "INFO:tensorflow:tokens: [CLS] ▁ร้าน นี้จะ อยู่ เส้น สัน กําแพง - แม ่อ อน ▁เลย แยก บ่อ สร้าง ร้าน จะอยู่ ด้าน ซ้าย ติด ริม ถนน ▁มี ป้าย ติด ไว้ เห็น ชัดเจน .. \" ปู ทอง ▁ข้าว แกง รส เด็ด \" <unk> ▁ตาม หา ข้าว แกง รส ชาติน ี้ มาตลอด ในที่สุด ก็ได้ เจอ ▁เพราะ ส่วนใหญ่จะ เจอ รสชาติ กลาง ๆ ▁ถ้า คน ชอบ รส จัด จ ้าน แต่ไม่ ถึง กับ เผ็ด เว ่อ ร์ แนะ นําร ้าน นี้ เลย ค ่ะ ▁ที่นั่ง ก็ สะอาด สะ อ ้าน ▁มีทั้ง น้ํา ซุป และน้ํา พริก กะปิ ฟรี ▁และ น้ําดื่ม ฟรี บริการ ตัวเอง ▁ <unk> ค ห สต . ▁ชอบ แบบนี้ ที่ไม่ บังคับให้ ลูกค้า ต้อง ซ ื้อน ้ํา กิน เพราะ ทาน คนเดียว แค่ ▁ <unk> / <unk> ▁ข วด เหลือ ทิ้ง ตลอด เสียด าย เงิน <unk> [SEP]\n",
            "I1025 08:16:10.399269 140687029254016 run_classifier.py:490] tokens: [CLS] ▁ร้าน นี้จะ อยู่ เส้น สัน กําแพง - แม ่อ อน ▁เลย แยก บ่อ สร้าง ร้าน จะอยู่ ด้าน ซ้าย ติด ริม ถนน ▁มี ป้าย ติด ไว้ เห็น ชัดเจน .. \" ปู ทอง ▁ข้าว แกง รส เด็ด \" <unk> ▁ตาม หา ข้าว แกง รส ชาติน ี้ มาตลอด ในที่สุด ก็ได้ เจอ ▁เพราะ ส่วนใหญ่จะ เจอ รสชาติ กลาง ๆ ▁ถ้า คน ชอบ รส จัด จ ้าน แต่ไม่ ถึง กับ เผ็ด เว ่อ ร์ แนะ นําร ้าน นี้ เลย ค ่ะ ▁ที่นั่ง ก็ สะอาด สะ อ ้าน ▁มีทั้ง น้ํา ซุป และน้ํา พริก กะปิ ฟรี ▁และ น้ําดื่ม ฟรี บริการ ตัวเอง ▁ <unk> ค ห สต . ▁ชอบ แบบนี้ ที่ไม่ บังคับให้ ลูกค้า ต้อง ซ ื้อน ้ํา กิน เพราะ ทาน คนเดียว แค่ ▁ <unk> / <unk> ▁ข วด เหลือ ทิ้ง ตลอด เสียด าย เงิน <unk> [SEP]\n",
            "INFO:tensorflow:input_ids: 1 8916 2130 125 667 814 5529 24790 322 25 82 14057 1041 7656 517 3208 19779 511 2874 705 1633 1069 115 10615 705 1135 1439 4470 3807 24774 3808 891 6305 4696 731 11786 24774 4 1084 832 1921 4696 731 7342 100 16104 6448 2807 9402 2350 13312 9402 11447 518 24802 3762 325 2185 731 356 24749 341 8994 149 104 15080 145 25 40 6297 17154 341 138 3179 24744 22499 3838 606 8697 1020 24724 341 9117 394 9143 12326 5646 14835 4353 56 13002 4353 1405 3152 24719 4 24744 24745 2558 24758 6980 16388 2431 19506 12173 835 24762 7713 192 2191 2895 1195 6417 4511 24719 4 24816 4 786 680 1617 4697 2202 9587 20 1289 4 2\n",
            "I1025 08:16:10.399415 140687029254016 run_classifier.py:491] input_ids: 1 8916 2130 125 667 814 5529 24790 322 25 82 14057 1041 7656 517 3208 19779 511 2874 705 1633 1069 115 10615 705 1135 1439 4470 3807 24774 3808 891 6305 4696 731 11786 24774 4 1084 832 1921 4696 731 7342 100 16104 6448 2807 9402 2350 13312 9402 11447 518 24802 3762 325 2185 731 356 24749 341 8994 149 104 15080 145 25 40 6297 17154 341 138 3179 24744 22499 3838 606 8697 1020 24724 341 9117 394 9143 12326 5646 14835 4353 56 13002 4353 1405 3152 24719 4 24744 24745 2558 24758 6980 16388 2431 19506 12173 835 24762 7713 192 2191 2895 1195 6417 4511 24719 4 24816 4 786 680 1617 4697 2202 9587 20 1289 4 2\n",
            "INFO:tensorflow:input_mask: 1 1 1 1 1 1 1 1 1 1 1 1 1 1 1 1 1 1 1 1 1 1 1 1 1 1 1 1 1 1 1 1 1 1 1 1 1 1 1 1 1 1 1 1 1 1 1 1 1 1 1 1 1 1 1 1 1 1 1 1 1 1 1 1 1 1 1 1 1 1 1 1 1 1 1 1 1 1 1 1 1 1 1 1 1 1 1 1 1 1 1 1 1 1 1 1 1 1 1 1 1 1 1 1 1 1 1 1 1 1 1 1 1 1 1 1 1 1 1 1 1 1 1 1 1 1 1 1\n",
            "I1025 08:16:10.399529 140687029254016 run_classifier.py:492] input_mask: 1 1 1 1 1 1 1 1 1 1 1 1 1 1 1 1 1 1 1 1 1 1 1 1 1 1 1 1 1 1 1 1 1 1 1 1 1 1 1 1 1 1 1 1 1 1 1 1 1 1 1 1 1 1 1 1 1 1 1 1 1 1 1 1 1 1 1 1 1 1 1 1 1 1 1 1 1 1 1 1 1 1 1 1 1 1 1 1 1 1 1 1 1 1 1 1 1 1 1 1 1 1 1 1 1 1 1 1 1 1 1 1 1 1 1 1 1 1 1 1 1 1 1 1 1 1 1 1\n",
            "INFO:tensorflow:segment_ids: 0 0 0 0 0 0 0 0 0 0 0 0 0 0 0 0 0 0 0 0 0 0 0 0 0 0 0 0 0 0 0 0 0 0 0 0 0 0 0 0 0 0 0 0 0 0 0 0 0 0 0 0 0 0 0 0 0 0 0 0 0 0 0 0 0 0 0 0 0 0 0 0 0 0 0 0 0 0 0 0 0 0 0 0 0 0 0 0 0 0 0 0 0 0 0 0 0 0 0 0 0 0 0 0 0 0 0 0 0 0 0 0 0 0 0 0 0 0 0 0 0 0 0 0 0 0 0 0\n",
            "I1025 08:16:10.399636 140687029254016 run_classifier.py:493] segment_ids: 0 0 0 0 0 0 0 0 0 0 0 0 0 0 0 0 0 0 0 0 0 0 0 0 0 0 0 0 0 0 0 0 0 0 0 0 0 0 0 0 0 0 0 0 0 0 0 0 0 0 0 0 0 0 0 0 0 0 0 0 0 0 0 0 0 0 0 0 0 0 0 0 0 0 0 0 0 0 0 0 0 0 0 0 0 0 0 0 0 0 0 0 0 0 0 0 0 0 0 0 0 0 0 0 0 0 0 0 0 0 0 0 0 0 0 0 0 0 0 0 0 0 0 0 0 0 0 0\n",
            "INFO:tensorflow:label: 3 (id = 2)\n",
            "I1025 08:16:10.399718 140687029254016 run_classifier.py:494] label: 3 (id = 2)\n",
            "INFO:tensorflow:*** Example ***\n",
            "I1025 08:16:10.402907 140687029254016 run_classifier.py:487] *** Example ***\n",
            "INFO:tensorflow:guid: test-2\n",
            "I1025 08:16:10.403026 140687029254016 run_classifier.py:488] guid: test-2\n",
            "INFO:tensorflow:tokens: [CLS] ▁ส ั่ง ไป 2 ▁เม นู ▁คือ ม ัช ฉะ ลา เต้ ร้อน ▁กับ ▁ไอ ศ ครีม ชา เขียว ▁ม ัช ฉะ ลา เต้ ร้อน ▁รส ชา เขียว เข้มข้น ▁หอม ▁มัน ▁แต่ไม่ กลม กล่อม ▁มัน จืด แบบ จืด สนิท ▁ส่วน ไอ ศ ครีม ชา เขียว ▁ท าน แล้ว ร สม ัน ออก ใบไม้ ๆ มากกว่า ชา เขียว ▁แล้ว ก็ หวาน ไป ▁โดยรวม แล้ว เฉ ย มาก ก ▁ดี แค่ รส ชา เขียว เข้ม ▁มี น้ํา เปล่า บริการ ฟรี [SEP]\n",
            "I1025 08:16:10.403132 140687029254016 run_classifier.py:490] tokens: [CLS] ▁ส ั่ง ไป 2 ▁เม นู ▁คือ ม ัช ฉะ ลา เต้ ร้อน ▁กับ ▁ไอ ศ ครีม ชา เขียว ▁ม ัช ฉะ ลา เต้ ร้อน ▁รส ชา เขียว เข้มข้น ▁หอม ▁มัน ▁แต่ไม่ กลม กล่อม ▁มัน จืด แบบ จืด สนิท ▁ส่วน ไอ ศ ครีม ชา เขียว ▁ท าน แล้ว ร สม ัน ออก ใบไม้ ๆ มากกว่า ชา เขียว ▁แล้ว ก็ หวาน ไป ▁โดยรวม แล้ว เฉ ย มาก ก ▁ดี แค่ รส ชา เขียว เข้ม ▁มี น้ํา เปล่า บริการ ฟรี [SEP]\n",
            "INFO:tensorflow:input_ids: 1 59 713 157 24854 174 2341 353 24730 1509 5893 303 6915 524 1261 2855 24754 10707 163 1753 159 1509 5893 303 6915 524 9214 163 1753 11217 20150 3025 5219 1541 15582 3025 3423 299 3423 5417 848 1208 24754 10707 163 1753 440 28 559 24722 208 15 183 7767 24802 1525 163 1753 2034 606 3209 157 16993 559 473 24733 329 24725 2490 4511 731 163 1753 2933 115 394 8742 1405 4353 2 0 0 0 0 0 0 0 0 0 0 0 0 0 0 0 0 0 0 0 0 0 0 0 0 0 0 0 0 0 0 0 0 0 0 0 0 0 0 0 0 0 0 0 0 0 0 0 0\n",
            "I1025 08:16:10.403254 140687029254016 run_classifier.py:491] input_ids: 1 59 713 157 24854 174 2341 353 24730 1509 5893 303 6915 524 1261 2855 24754 10707 163 1753 159 1509 5893 303 6915 524 9214 163 1753 11217 20150 3025 5219 1541 15582 3025 3423 299 3423 5417 848 1208 24754 10707 163 1753 440 28 559 24722 208 15 183 7767 24802 1525 163 1753 2034 606 3209 157 16993 559 473 24733 329 24725 2490 4511 731 163 1753 2933 115 394 8742 1405 4353 2 0 0 0 0 0 0 0 0 0 0 0 0 0 0 0 0 0 0 0 0 0 0 0 0 0 0 0 0 0 0 0 0 0 0 0 0 0 0 0 0 0 0 0 0 0 0 0 0\n",
            "INFO:tensorflow:input_mask: 1 1 1 1 1 1 1 1 1 1 1 1 1 1 1 1 1 1 1 1 1 1 1 1 1 1 1 1 1 1 1 1 1 1 1 1 1 1 1 1 1 1 1 1 1 1 1 1 1 1 1 1 1 1 1 1 1 1 1 1 1 1 1 1 1 1 1 1 1 1 1 1 1 1 1 1 1 1 1 1 0 0 0 0 0 0 0 0 0 0 0 0 0 0 0 0 0 0 0 0 0 0 0 0 0 0 0 0 0 0 0 0 0 0 0 0 0 0 0 0 0 0 0 0 0 0 0 0\n",
            "I1025 08:16:10.403362 140687029254016 run_classifier.py:492] input_mask: 1 1 1 1 1 1 1 1 1 1 1 1 1 1 1 1 1 1 1 1 1 1 1 1 1 1 1 1 1 1 1 1 1 1 1 1 1 1 1 1 1 1 1 1 1 1 1 1 1 1 1 1 1 1 1 1 1 1 1 1 1 1 1 1 1 1 1 1 1 1 1 1 1 1 1 1 1 1 1 1 0 0 0 0 0 0 0 0 0 0 0 0 0 0 0 0 0 0 0 0 0 0 0 0 0 0 0 0 0 0 0 0 0 0 0 0 0 0 0 0 0 0 0 0 0 0 0 0\n",
            "INFO:tensorflow:segment_ids: 0 0 0 0 0 0 0 0 0 0 0 0 0 0 0 0 0 0 0 0 0 0 0 0 0 0 0 0 0 0 0 0 0 0 0 0 0 0 0 0 0 0 0 0 0 0 0 0 0 0 0 0 0 0 0 0 0 0 0 0 0 0 0 0 0 0 0 0 0 0 0 0 0 0 0 0 0 0 0 0 0 0 0 0 0 0 0 0 0 0 0 0 0 0 0 0 0 0 0 0 0 0 0 0 0 0 0 0 0 0 0 0 0 0 0 0 0 0 0 0 0 0 0 0 0 0 0 0\n",
            "I1025 08:16:10.403482 140687029254016 run_classifier.py:493] segment_ids: 0 0 0 0 0 0 0 0 0 0 0 0 0 0 0 0 0 0 0 0 0 0 0 0 0 0 0 0 0 0 0 0 0 0 0 0 0 0 0 0 0 0 0 0 0 0 0 0 0 0 0 0 0 0 0 0 0 0 0 0 0 0 0 0 0 0 0 0 0 0 0 0 0 0 0 0 0 0 0 0 0 0 0 0 0 0 0 0 0 0 0 0 0 0 0 0 0 0 0 0 0 0 0 0 0 0 0 0 0 0 0 0 0 0 0 0 0 0 0 0 0 0 0 0 0 0 0 0\n",
            "INFO:tensorflow:label: 3 (id = 2)\n",
            "I1025 08:16:10.403555 140687029254016 run_classifier.py:494] label: 3 (id = 2)\n",
            "INFO:tensorflow:*** Example ***\n",
            "I1025 08:16:10.415363 140687029254016 run_classifier.py:487] *** Example ***\n",
            "INFO:tensorflow:guid: test-3\n",
            "I1025 08:16:10.415488 140687029254016 run_classifier.py:488] guid: test-3\n",
            "INFO:tensorflow:tokens: [CLS] ▁ครัว วง เดือน ▁ <unk> ห ิว ดึก ๆ ▁ต ระ เวน หาร ้าน ทาน ▁มา เจอ ร้าน ริม ถนน พุทธมณฑล สาย ▁ <unk> ▁หน้า ปาก ซอย พุทธมณฑล สาย ▁ <unk> ▁ซอย ▁ <unk> 0 ครับ ▁ร้าน วง เดือน ▁ขาย ทั้ง อาหาร ไทย ทั่วไป ▁ทะเล เผา ▁รวมถึง เมน ู ของ ร้าน ส้ม ตํา ทั้งหมด ด้วย ▁เม นู เยอะ เลือก ไม่ ถูก เลย ▁ <unk> . ▁ย ํา มะ เขือ เปราะ ▁ <unk> 00 ▁บาท ▁จัด จ ้าน มากๆ <unk> ▁ <unk> 2 . ▁ก บท อด กระ เทียม ▁ <unk> 00 ▁บาท ▁ก บ ตัวเล็ก ไป หน ่อย ครับ ▁ทอด มาก รอบ นอก นุ่ม ใน ดี ครับ ▁อร ่อย ๆ ๆ <unk> . ▁ลา บ ปลา ช่อน ▁ <unk> 00 ▁บาท ▁ทํา มาเป็น ชิ้น ๆ ทอด [SEP]\n",
            "I1025 08:16:10.415606 140687029254016 run_classifier.py:490] tokens: [CLS] ▁ครัว วง เดือน ▁ <unk> ห ิว ดึก ๆ ▁ต ระ เวน หาร ้าน ทาน ▁มา เจอ ร้าน ริม ถนน พุทธมณฑล สาย ▁ <unk> ▁หน้า ปาก ซอย พุทธมณฑล สาย ▁ <unk> ▁ซอย ▁ <unk> 0 ครับ ▁ร้าน วง เดือน ▁ขาย ทั้ง อาหาร ไทย ทั่วไป ▁ทะเล เผา ▁รวมถึง เมน ู ของ ร้าน ส้ม ตํา ทั้งหมด ด้วย ▁เม นู เยอะ เลือก ไม่ ถูก เลย ▁ <unk> . ▁ย ํา มะ เขือ เปราะ ▁ <unk> 00 ▁บาท ▁จัด จ ้าน มากๆ <unk> ▁ <unk> 2 . ▁ก บท อด กระ เทียม ▁ <unk> 00 ▁บาท ▁ก บ ตัวเล็ก ไป หน ่อย ครับ ▁ทอด มาก รอบ นอก นุ่ม ใน ดี ครับ ▁อร ่อย ๆ ๆ <unk> . ▁ลา บ ปลา ช่อน ▁ <unk> 00 ▁บาท ▁ทํา มาเป็น ชิ้น ๆ ทอด [SEP]\n",
            "INFO:tensorflow:input_ids: 1 17547 123 849 24719 4 24745 520 10959 24802 105 14 3126 345 341 1195 1227 9402 3208 1633 1069 18650 804 24719 4 2916 1345 7890 18650 804 24719 4 11538 24719 4 24728 22569 8916 123 849 17786 243 1062 233 1196 3402 6212 2391 1627 24759 34 3208 3567 429 734 222 174 2341 19287 792 251 410 3179 24719 4 24758 1254 19 1079 9093 23256 24719 4 7 6723 767 24749 341 22017 4 24719 4 24854 24758 69 550 305 381 3355 24719 4 7 6723 69 24743 19828 157 57 718 22569 15574 329 1200 2168 10712 17 218 22569 10966 718 24802 24802 4 24758 5330 24743 885 20536 24719 4 7 6723 2158 3027 2783 24802 2602 2\n",
            "I1025 08:16:10.415736 140687029254016 run_classifier.py:491] input_ids: 1 17547 123 849 24719 4 24745 520 10959 24802 105 14 3126 345 341 1195 1227 9402 3208 1633 1069 18650 804 24719 4 2916 1345 7890 18650 804 24719 4 11538 24719 4 24728 22569 8916 123 849 17786 243 1062 233 1196 3402 6212 2391 1627 24759 34 3208 3567 429 734 222 174 2341 19287 792 251 410 3179 24719 4 24758 1254 19 1079 9093 23256 24719 4 7 6723 767 24749 341 22017 4 24719 4 24854 24758 69 550 305 381 3355 24719 4 7 6723 69 24743 19828 157 57 718 22569 15574 329 1200 2168 10712 17 218 22569 10966 718 24802 24802 4 24758 5330 24743 885 20536 24719 4 7 6723 2158 3027 2783 24802 2602 2\n",
            "INFO:tensorflow:input_mask: 1 1 1 1 1 1 1 1 1 1 1 1 1 1 1 1 1 1 1 1 1 1 1 1 1 1 1 1 1 1 1 1 1 1 1 1 1 1 1 1 1 1 1 1 1 1 1 1 1 1 1 1 1 1 1 1 1 1 1 1 1 1 1 1 1 1 1 1 1 1 1 1 1 1 1 1 1 1 1 1 1 1 1 1 1 1 1 1 1 1 1 1 1 1 1 1 1 1 1 1 1 1 1 1 1 1 1 1 1 1 1 1 1 1 1 1 1 1 1 1 1 1 1 1 1 1 1 1\n",
            "I1025 08:16:10.415861 140687029254016 run_classifier.py:492] input_mask: 1 1 1 1 1 1 1 1 1 1 1 1 1 1 1 1 1 1 1 1 1 1 1 1 1 1 1 1 1 1 1 1 1 1 1 1 1 1 1 1 1 1 1 1 1 1 1 1 1 1 1 1 1 1 1 1 1 1 1 1 1 1 1 1 1 1 1 1 1 1 1 1 1 1 1 1 1 1 1 1 1 1 1 1 1 1 1 1 1 1 1 1 1 1 1 1 1 1 1 1 1 1 1 1 1 1 1 1 1 1 1 1 1 1 1 1 1 1 1 1 1 1 1 1 1 1 1 1\n",
            "INFO:tensorflow:segment_ids: 0 0 0 0 0 0 0 0 0 0 0 0 0 0 0 0 0 0 0 0 0 0 0 0 0 0 0 0 0 0 0 0 0 0 0 0 0 0 0 0 0 0 0 0 0 0 0 0 0 0 0 0 0 0 0 0 0 0 0 0 0 0 0 0 0 0 0 0 0 0 0 0 0 0 0 0 0 0 0 0 0 0 0 0 0 0 0 0 0 0 0 0 0 0 0 0 0 0 0 0 0 0 0 0 0 0 0 0 0 0 0 0 0 0 0 0 0 0 0 0 0 0 0 0 0 0 0 0\n",
            "I1025 08:16:10.415971 140687029254016 run_classifier.py:493] segment_ids: 0 0 0 0 0 0 0 0 0 0 0 0 0 0 0 0 0 0 0 0 0 0 0 0 0 0 0 0 0 0 0 0 0 0 0 0 0 0 0 0 0 0 0 0 0 0 0 0 0 0 0 0 0 0 0 0 0 0 0 0 0 0 0 0 0 0 0 0 0 0 0 0 0 0 0 0 0 0 0 0 0 0 0 0 0 0 0 0 0 0 0 0 0 0 0 0 0 0 0 0 0 0 0 0 0 0 0 0 0 0 0 0 0 0 0 0 0 0 0 0 0 0 0 0 0 0 0 0\n",
            "INFO:tensorflow:label: 3 (id = 2)\n",
            "I1025 08:16:10.416040 140687029254016 run_classifier.py:494] label: 3 (id = 2)\n",
            "INFO:tensorflow:*** Example ***\n",
            "I1025 08:16:10.450271 140687029254016 run_classifier.py:487] *** Example ***\n",
            "INFO:tensorflow:guid: test-4\n",
            "I1025 08:16:10.450418 140687029254016 run_classifier.py:488] guid: test-4\n",
            "INFO:tensorflow:tokens: [CLS] ▁จะ ว่าเป็น เจ้า ประจํา ก็ คง ไม่ ผิด ▁แต่ก็ ไม่ กล้า การ ัน ตี หร อก ว่ าร ้าน นี้ อร ่อย ที่สุดของ หล ่ม เก่า ▁รู้ แต่เพียง ว่าเป็น เจ้า แรก ▁ๆ ▁และ ขาย มานาน ▁ผ่านการ แนะนํา ของคน พื้นที่ ▁วัน นี้ หลังจาก ทํา ธ ุระ แถว นี้ เสร็จ เลย พา คนต ่าง ถิ่น มา ทาน กัน หน ่อย แล้ว กัน ▁ <unk> ▁ร้าน นี้จะ อยู่ ถนน เส้น ไป ด่าน ซ้าย ▁จังหวัดเลย ▁จะ เลย ทาง เลี้ยว เข้า ตัวอําเภอ หล ่ม เก ่าม าน ิด หน ่อย ▁ร้าน จะอยู่ ซ้าย มือ ตรง สุด เกาะกลาง ถนน ▁บรร ยากาศ ร้าน ดู บ้าน ▁ๆ ▁เป็น เพ ิง ขนาดใหญ่ ▁มี โต๊ะ ▁ <unk> 0 ▁กว่า โต๊ะ ▁ที่ จอด รถ สะดวก ▁เปิด บริการ ทุกวัน ตั้งแต่ เวลา ▁0 <unk> .00 ▁น . ▁- ▁ [SEP]\n",
            "I1025 08:16:10.450536 140687029254016 run_classifier.py:490] tokens: [CLS] ▁จะ ว่าเป็น เจ้า ประจํา ก็ คง ไม่ ผิด ▁แต่ก็ ไม่ กล้า การ ัน ตี หร อก ว่ าร ้าน นี้ อร ่อย ที่สุดของ หล ่ม เก่า ▁รู้ แต่เพียง ว่าเป็น เจ้า แรก ▁ๆ ▁และ ขาย มานาน ▁ผ่านการ แนะนํา ของคน พื้นที่ ▁วัน นี้ หลังจาก ทํา ธ ุระ แถว นี้ เสร็จ เลย พา คนต ่าง ถิ่น มา ทาน กัน หน ่อย แล้ว กัน ▁ <unk> ▁ร้าน นี้จะ อยู่ ถนน เส้น ไป ด่าน ซ้าย ▁จังหวัดเลย ▁จะ เลย ทาง เลี้ยว เข้า ตัวอําเภอ หล ่ม เก ่าม าน ิด หน ่อย ▁ร้าน จะอยู่ ซ้าย มือ ตรง สุด เกาะกลาง ถนน ▁บรร ยากาศ ร้าน ดู บ้าน ▁ๆ ▁เป็น เพ ิง ขนาดใหญ่ ▁มี โต๊ะ ▁ <unk> 0 ▁กว่า โต๊ะ ▁ที่ จอด รถ สะดวก ▁เปิด บริการ ทุกวัน ตั้งแต่ เวลา ▁0 <unk> .00 ▁น . ▁- ▁ [SEP]\n",
            "INFO:tensorflow:input_ids: 1 1120 1379 363 1154 606 1635 251 1785 4082 251 6541 21 15 924 85 74 1913 10 341 138 2811 718 4458 72 154 1833 20576 16727 1379 363 270 592 56 1191 8843 23451 7428 6195 763 1223 138 910 212 24770 8246 8190 138 3263 3179 1511 12926 90 1147 78 1195 189 57 718 559 189 24719 4 8916 2130 125 1069 667 157 7379 2874 19975 1120 3179 107 21149 521 15676 72 154 60 3771 28 62 57 718 8916 19779 2874 1266 963 507 19478 1069 4938 8844 3208 280 738 592 45 117 113 1661 115 6332 24719 4 24728 14080 6332 230 7623 620 5440 2131 1405 2832 743 879 50 4 808 191 24758 480 24719 2\n",
            "I1025 08:16:10.470313 140687029254016 run_classifier.py:491] input_ids: 1 1120 1379 363 1154 606 1635 251 1785 4082 251 6541 21 15 924 85 74 1913 10 341 138 2811 718 4458 72 154 1833 20576 16727 1379 363 270 592 56 1191 8843 23451 7428 6195 763 1223 138 910 212 24770 8246 8190 138 3263 3179 1511 12926 90 1147 78 1195 189 57 718 559 189 24719 4 8916 2130 125 1069 667 157 7379 2874 19975 1120 3179 107 21149 521 15676 72 154 60 3771 28 62 57 718 8916 19779 2874 1266 963 507 19478 1069 4938 8844 3208 280 738 592 45 117 113 1661 115 6332 24719 4 24728 14080 6332 230 7623 620 5440 2131 1405 2832 743 879 50 4 808 191 24758 480 24719 2\n",
            "INFO:tensorflow:input_mask: 1 1 1 1 1 1 1 1 1 1 1 1 1 1 1 1 1 1 1 1 1 1 1 1 1 1 1 1 1 1 1 1 1 1 1 1 1 1 1 1 1 1 1 1 1 1 1 1 1 1 1 1 1 1 1 1 1 1 1 1 1 1 1 1 1 1 1 1 1 1 1 1 1 1 1 1 1 1 1 1 1 1 1 1 1 1 1 1 1 1 1 1 1 1 1 1 1 1 1 1 1 1 1 1 1 1 1 1 1 1 1 1 1 1 1 1 1 1 1 1 1 1 1 1 1 1 1 1\n",
            "I1025 08:16:10.470530 140687029254016 run_classifier.py:492] input_mask: 1 1 1 1 1 1 1 1 1 1 1 1 1 1 1 1 1 1 1 1 1 1 1 1 1 1 1 1 1 1 1 1 1 1 1 1 1 1 1 1 1 1 1 1 1 1 1 1 1 1 1 1 1 1 1 1 1 1 1 1 1 1 1 1 1 1 1 1 1 1 1 1 1 1 1 1 1 1 1 1 1 1 1 1 1 1 1 1 1 1 1 1 1 1 1 1 1 1 1 1 1 1 1 1 1 1 1 1 1 1 1 1 1 1 1 1 1 1 1 1 1 1 1 1 1 1 1 1\n",
            "INFO:tensorflow:segment_ids: 0 0 0 0 0 0 0 0 0 0 0 0 0 0 0 0 0 0 0 0 0 0 0 0 0 0 0 0 0 0 0 0 0 0 0 0 0 0 0 0 0 0 0 0 0 0 0 0 0 0 0 0 0 0 0 0 0 0 0 0 0 0 0 0 0 0 0 0 0 0 0 0 0 0 0 0 0 0 0 0 0 0 0 0 0 0 0 0 0 0 0 0 0 0 0 0 0 0 0 0 0 0 0 0 0 0 0 0 0 0 0 0 0 0 0 0 0 0 0 0 0 0 0 0 0 0 0 0\n",
            "I1025 08:16:10.470675 140687029254016 run_classifier.py:493] segment_ids: 0 0 0 0 0 0 0 0 0 0 0 0 0 0 0 0 0 0 0 0 0 0 0 0 0 0 0 0 0 0 0 0 0 0 0 0 0 0 0 0 0 0 0 0 0 0 0 0 0 0 0 0 0 0 0 0 0 0 0 0 0 0 0 0 0 0 0 0 0 0 0 0 0 0 0 0 0 0 0 0 0 0 0 0 0 0 0 0 0 0 0 0 0 0 0 0 0 0 0 0 0 0 0 0 0 0 0 0 0 0 0 0 0 0 0 0 0 0 0 0 0 0 0 0 0 0 0 0\n",
            "INFO:tensorflow:label: 3 (id = 2)\n",
            "I1025 08:16:10.470793 140687029254016 run_classifier.py:494] label: 3 (id = 2)\n",
            "INFO:tensorflow:*** Example ***\n",
            "I1025 08:16:10.479616 140687029254016 run_classifier.py:487] *** Example ***\n",
            "INFO:tensorflow:guid: test-5\n",
            "I1025 08:16:10.479763 140687029254016 run_classifier.py:488] guid: test-5\n",
            "INFO:tensorflow:tokens: [CLS] ▁ถ้า คิดถึง สลัด ผม คิดถึง ร้าน นี้เป็น ร้าน แรกๆ เลย ครับ <unk> เพราะมี ให้ เลือก หลากหลาย แนว <unk> อยาก กิน สลัด แนว ไหน นี่ มี ครบ <unk> ไม่ว่า จะ ▁he al th y ▁หรือ ว่า แบบ ครีม ๆ จัด เต็ม ก็มี ให้ เลือก ครับ <unk> ผม ว่า อก ไก่ ที่นี่ นุ่ม มาก ▁ตอน เลือก มา ไม่ คิด ว่าจะ นุ่ม ขนาด นี้ ▁แค ่ สาข านี้ ไม่มี ที่นั่ง นะ ครับ ▁ต้อง ▁t ake ▁home ▁อย่าง เดียว เลย ▁ลอง เลือก ดู ครับ มีหลาย ▁top p ing ▁เลย ครับ [SEP]\n",
            "I1025 08:16:10.479900 140687029254016 run_classifier.py:490] tokens: [CLS] ▁ถ้า คิดถึง สลัด ผม คิดถึง ร้าน นี้เป็น ร้าน แรกๆ เลย ครับ <unk> เพราะมี ให้ เลือก หลากหลาย แนว <unk> อยาก กิน สลัด แนว ไหน นี่ มี ครบ <unk> ไม่ว่า จะ ▁he al th y ▁หรือ ว่า แบบ ครีม ๆ จัด เต็ม ก็มี ให้ เลือก ครับ <unk> ผม ว่า อก ไก่ ที่นี่ นุ่ม มาก ▁ตอน เลือก มา ไม่ คิด ว่าจะ นุ่ม ขนาด นี้ ▁แค ่ สาข านี้ ไม่มี ที่นั่ง นะ ครับ ▁ต้อง ▁t ake ▁home ▁อย่าง เดียว เลย ▁ลอง เลือก ดู ครับ มีหลาย ▁top p ing ▁เลย ครับ [SEP]\n",
            "INFO:tensorflow:input_ids: 1 3762 21120 18866 5894 21120 3208 1244 3208 10894 3179 22569 4 21195 166 792 2973 796 4 5935 2191 18866 796 7992 3688 35 3946 4 15851 177 4325 379 405 24798 207 121 299 10707 24802 356 1660 6042 166 792 22569 4 5894 121 74 5045 12170 10712 329 2271 792 78 251 1469 5383 10712 565 138 3937 24727 3645 3082 1121 4251 1512 22569 5669 689 7323 22117 2075 600 3179 13081 792 280 22569 9048 9158 24794 1045 14057 22569 2 0 0 0 0 0 0 0 0 0 0 0 0 0 0 0 0 0 0 0 0 0 0 0 0 0 0 0 0 0 0 0 0 0 0 0 0 0 0 0 0\n",
            "I1025 08:16:10.480037 140687029254016 run_classifier.py:491] input_ids: 1 3762 21120 18866 5894 21120 3208 1244 3208 10894 3179 22569 4 21195 166 792 2973 796 4 5935 2191 18866 796 7992 3688 35 3946 4 15851 177 4325 379 405 24798 207 121 299 10707 24802 356 1660 6042 166 792 22569 4 5894 121 74 5045 12170 10712 329 2271 792 78 251 1469 5383 10712 565 138 3937 24727 3645 3082 1121 4251 1512 22569 5669 689 7323 22117 2075 600 3179 13081 792 280 22569 9048 9158 24794 1045 14057 22569 2 0 0 0 0 0 0 0 0 0 0 0 0 0 0 0 0 0 0 0 0 0 0 0 0 0 0 0 0 0 0 0 0 0 0 0 0 0 0 0 0\n",
            "INFO:tensorflow:input_mask: 1 1 1 1 1 1 1 1 1 1 1 1 1 1 1 1 1 1 1 1 1 1 1 1 1 1 1 1 1 1 1 1 1 1 1 1 1 1 1 1 1 1 1 1 1 1 1 1 1 1 1 1 1 1 1 1 1 1 1 1 1 1 1 1 1 1 1 1 1 1 1 1 1 1 1 1 1 1 1 1 1 1 1 1 1 1 1 1 0 0 0 0 0 0 0 0 0 0 0 0 0 0 0 0 0 0 0 0 0 0 0 0 0 0 0 0 0 0 0 0 0 0 0 0 0 0 0 0\n",
            "I1025 08:16:10.480149 140687029254016 run_classifier.py:492] input_mask: 1 1 1 1 1 1 1 1 1 1 1 1 1 1 1 1 1 1 1 1 1 1 1 1 1 1 1 1 1 1 1 1 1 1 1 1 1 1 1 1 1 1 1 1 1 1 1 1 1 1 1 1 1 1 1 1 1 1 1 1 1 1 1 1 1 1 1 1 1 1 1 1 1 1 1 1 1 1 1 1 1 1 1 1 1 1 1 1 0 0 0 0 0 0 0 0 0 0 0 0 0 0 0 0 0 0 0 0 0 0 0 0 0 0 0 0 0 0 0 0 0 0 0 0 0 0 0 0\n",
            "INFO:tensorflow:segment_ids: 0 0 0 0 0 0 0 0 0 0 0 0 0 0 0 0 0 0 0 0 0 0 0 0 0 0 0 0 0 0 0 0 0 0 0 0 0 0 0 0 0 0 0 0 0 0 0 0 0 0 0 0 0 0 0 0 0 0 0 0 0 0 0 0 0 0 0 0 0 0 0 0 0 0 0 0 0 0 0 0 0 0 0 0 0 0 0 0 0 0 0 0 0 0 0 0 0 0 0 0 0 0 0 0 0 0 0 0 0 0 0 0 0 0 0 0 0 0 0 0 0 0 0 0 0 0 0 0\n",
            "I1025 08:16:10.480257 140687029254016 run_classifier.py:493] segment_ids: 0 0 0 0 0 0 0 0 0 0 0 0 0 0 0 0 0 0 0 0 0 0 0 0 0 0 0 0 0 0 0 0 0 0 0 0 0 0 0 0 0 0 0 0 0 0 0 0 0 0 0 0 0 0 0 0 0 0 0 0 0 0 0 0 0 0 0 0 0 0 0 0 0 0 0 0 0 0 0 0 0 0 0 0 0 0 0 0 0 0 0 0 0 0 0 0 0 0 0 0 0 0 0 0 0 0 0 0 0 0 0 0 0 0 0 0 0 0 0 0 0 0 0 0 0 0 0 0\n",
            "INFO:tensorflow:label: 3 (id = 2)\n",
            "I1025 08:16:10.480327 140687029254016 run_classifier.py:494] label: 3 (id = 2)\n"
          ],
          "name": "stdout"
        }
      ]
    },
    {
      "cell_type": "markdown",
      "metadata": {
        "id": "UZLNP64wTqal"
      },
      "source": [
        "# Save the output folder"
      ]
    },
    {
      "cell_type": "code",
      "metadata": {
        "id": "MpKsdARpTUYd"
      },
      "source": [
        "!mkdir output_last"
      ],
      "execution_count": null,
      "outputs": []
    },
    {
      "cell_type": "code",
      "metadata": {
        "id": "ooXabEZITtX6"
      },
      "source": [
        "!cp output/model.ckpt-2500.* output_last/"
      ],
      "execution_count": null,
      "outputs": []
    },
    {
      "cell_type": "code",
      "metadata": {
        "id": "LcDlKuRvTvpc"
      },
      "source": [
        "%cd output_last"
      ],
      "execution_count": null,
      "outputs": []
    },
    {
      "cell_type": "code",
      "metadata": {
        "id": "UJ433X_hTxGi"
      },
      "source": [
        "#Remove the epoch postfix\n",
        "!mv model.ckpt-2500.data-00000-of-00001 model.ckpt.data-00000-of-00001\n",
        "!mv model.ckpt-2500.index model.ckpt.index\n",
        "!mv model.ckpt-2500.meta model.ckpt.meta"
      ],
      "execution_count": null,
      "outputs": []
    },
    {
      "cell_type": "code",
      "metadata": {
        "id": "Lxw2wh8uT2Pi"
      },
      "source": [
        "!ls"
      ],
      "execution_count": null,
      "outputs": []
    },
    {
      "cell_type": "code",
      "metadata": {
        "id": "lY9ovAnnT3z7"
      },
      "source": [
        "%cd .."
      ],
      "execution_count": null,
      "outputs": []
    },
    {
      "cell_type": "code",
      "metadata": {
        "id": "2k-8KagyT5Gg"
      },
      "source": [
        "!zip -r output_last.zip output_last"
      ],
      "execution_count": null,
      "outputs": []
    },
    {
      "cell_type": "code",
      "metadata": {
        "id": "8txP33ELT7Eg"
      },
      "source": [
        "from google.colab import files\n",
        "files.download('output_last.zip') "
      ],
      "execution_count": null,
      "outputs": []
    },
    {
      "cell_type": "code",
      "metadata": {
        "id": "UGhIacqhRVxj"
      },
      "source": [
        ""
      ],
      "execution_count": null,
      "outputs": []
    }
  ]
}