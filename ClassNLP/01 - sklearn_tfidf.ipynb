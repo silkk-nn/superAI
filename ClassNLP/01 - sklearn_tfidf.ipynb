{
  "nbformat": 4,
  "nbformat_minor": 0,
  "metadata": {
    "colab": {
      "name": "02 - sklearn-tfidf.ipynb",
      "provenance": [],
      "collapsed_sections": []
    },
    "kernelspec": {
      "name": "python3",
      "display_name": "Python 3"
    },
    "language_info": {
      "name": "python"
    }
  },
  "cells": [
    {
      "cell_type": "code",
      "metadata": {
        "id": "e9YVH9ryMlV7"
      },
      "source": [
        "from sklearn.feature_extraction.text import TfidfVectorizer\n"
      ],
      "execution_count": null,
      "outputs": []
    },
    {
      "cell_type": "markdown",
      "metadata": {
        "id": "JdMS1Bs0Oyiq"
      },
      "source": [
        "# Train new tf-idf model"
      ]
    },
    {
      "cell_type": "code",
      "metadata": {
        "id": "5mCRK1YNOgyq"
      },
      "source": [
        "corpus = [\n",
        "    'This is the first document.',\n",
        "    'This document is the second document.',\n",
        "    'And this is the third one.',\n",
        "    'Is this the first document?',\n",
        "]"
      ],
      "execution_count": null,
      "outputs": []
    },
    {
      "cell_type": "code",
      "metadata": {
        "colab": {
          "base_uri": "https://localhost:8080/"
        },
        "id": "Jr3M17ZbOjTc",
        "outputId": "3c42aab0-27ed-41f0-e150-4a287811dd21"
      },
      "source": [
        "# train new tf-idf model\n",
        "vectorizer = TfidfVectorizer()\n",
        "X = vectorizer.fit_transform(corpus)\n",
        "print(vectorizer.get_feature_names())\n",
        "\n",
        "print(X.shape) # 9 unique words and 4 documents"
      ],
      "execution_count": null,
      "outputs": [
        {
          "output_type": "stream",
          "text": [
            "['and', 'document', 'first', 'is', 'one', 'second', 'the', 'third', 'this']\n",
            "(4, 9)\n"
          ],
          "name": "stdout"
        }
      ]
    },
    {
      "cell_type": "code",
      "metadata": {
        "colab": {
          "base_uri": "https://localhost:8080/"
        },
        "id": "UEDq7cCGMy_d",
        "outputId": "51107f8b-c0a2-4e98-f1fa-1032e5ac6a49"
      },
      "source": [
        "print(X)"
      ],
      "execution_count": null,
      "outputs": [
        {
          "output_type": "stream",
          "text": [
            "  (0, 1)\t0.46979138557992045\n",
            "  (0, 2)\t0.5802858236844359\n",
            "  (0, 6)\t0.38408524091481483\n",
            "  (0, 3)\t0.38408524091481483\n",
            "  (0, 8)\t0.38408524091481483\n",
            "  (1, 5)\t0.5386476208856763\n",
            "  (1, 1)\t0.6876235979836938\n",
            "  (1, 6)\t0.281088674033753\n",
            "  (1, 3)\t0.281088674033753\n",
            "  (1, 8)\t0.281088674033753\n",
            "  (2, 4)\t0.511848512707169\n",
            "  (2, 7)\t0.511848512707169\n",
            "  (2, 0)\t0.511848512707169\n",
            "  (2, 6)\t0.267103787642168\n",
            "  (2, 3)\t0.267103787642168\n",
            "  (2, 8)\t0.267103787642168\n",
            "  (3, 1)\t0.46979138557992045\n",
            "  (3, 2)\t0.5802858236844359\n",
            "  (3, 6)\t0.38408524091481483\n",
            "  (3, 3)\t0.38408524091481483\n",
            "  (3, 8)\t0.38408524091481483\n"
          ],
          "name": "stdout"
        }
      ]
    },
    {
      "cell_type": "markdown",
      "metadata": {
        "id": "Hk0ObjQbPKSR"
      },
      "source": [
        "![tf-idf.png](data:image/png;base64,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)"
      ]
    },
    {
      "cell_type": "markdown",
      "metadata": {
        "id": "RPBNM25AOtGZ"
      },
      "source": [
        "# Embed a new document"
      ]
    },
    {
      "cell_type": "code",
      "metadata": {
        "id": "zLlLMZ2ZNWE5"
      },
      "source": [
        "d5 = \"this is the fifth document\""
      ],
      "execution_count": null,
      "outputs": []
    },
    {
      "cell_type": "code",
      "metadata": {
        "id": "mLCAR4SyOQN3"
      },
      "source": [
        "vec = vectorizer.transform([d5]) # argument is list of strings"
      ],
      "execution_count": null,
      "outputs": []
    },
    {
      "cell_type": "code",
      "metadata": {
        "colab": {
          "base_uri": "https://localhost:8080/"
        },
        "id": "876p9XQ_OS3P",
        "outputId": "e1f10faf-3da6-4b5b-fcfc-d445c66b662f"
      },
      "source": [
        "print(vec)"
      ],
      "execution_count": null,
      "outputs": [
        {
          "output_type": "stream",
          "text": [
            "  (0, 8)\t0.4716099701746435\n",
            "  (0, 6)\t0.4716099701746435\n",
            "  (0, 3)\t0.4716099701746435\n",
            "  (0, 1)\t0.576846693754602\n"
          ],
          "name": "stdout"
        }
      ]
    },
    {
      "cell_type": "markdown",
      "metadata": {
        "id": "j2vx1N8fP1Um"
      },
      "source": [
        "# For Thai"
      ]
    },
    {
      "cell_type": "code",
      "metadata": {
        "id": "oG3X8yTCP39V"
      },
      "source": [
        "corpus_thai = [\n",
        "    'นี่คือเอกสารที่หนึ่ง',\n",
        "    'เอกสารนี้คือเอกสารที่สอง',\n",
        "    'และนี่คืออันที่สาม',\n",
        "    'นี่คือเอกสารที่หนึ่งหรือไม่',\n",
        "]"
      ],
      "execution_count": null,
      "outputs": []
    },
    {
      "cell_type": "code",
      "metadata": {
        "colab": {
          "base_uri": "https://localhost:8080/",
          "height": 488
        },
        "id": "UAWg8yUwQRWT",
        "outputId": "3580f234-76d6-4d65-c399-5187044e1d36"
      },
      "source": [
        "!pip install pythainlp"
      ],
      "execution_count": null,
      "outputs": [
        {
          "output_type": "stream",
          "text": [
            "Collecting pythainlp\n",
            "  Downloading pythainlp-2.3.1-py3-none-any.whl (11.0 MB)\n",
            "\u001b[K     |████████████████████████████████| 11.0 MB 5.3 MB/s \n",
            "\u001b[?25hRequirement already satisfied: requests>=2.22.0 in /usr/local/lib/python3.7/dist-packages (from pythainlp) (2.23.0)\n",
            "Collecting python-crfsuite>=0.9.6\n",
            "  Downloading python_crfsuite-0.9.7-cp37-cp37m-manylinux1_x86_64.whl (743 kB)\n",
            "\u001b[K     |████████████████████████████████| 743 kB 39.8 MB/s \n",
            "\u001b[?25hCollecting tinydb>=3.0\n",
            "  Downloading tinydb-4.5.1-py3-none-any.whl (23 kB)\n",
            "Requirement already satisfied: urllib3!=1.25.0,!=1.25.1,<1.26,>=1.21.1 in /usr/local/lib/python3.7/dist-packages (from requests>=2.22.0->pythainlp) (1.24.3)\n",
            "Requirement already satisfied: idna<3,>=2.5 in /usr/local/lib/python3.7/dist-packages (from requests>=2.22.0->pythainlp) (2.10)\n",
            "Requirement already satisfied: certifi>=2017.4.17 in /usr/local/lib/python3.7/dist-packages (from requests>=2.22.0->pythainlp) (2021.5.30)\n",
            "Requirement already satisfied: chardet<4,>=3.0.2 in /usr/local/lib/python3.7/dist-packages (from requests>=2.22.0->pythainlp) (3.0.4)\n",
            "Collecting typing-extensions<4.0.0,>=3.10.0\n",
            "  Downloading typing_extensions-3.10.0.0-py3-none-any.whl (26 kB)\n",
            "Installing collected packages: typing-extensions, tinydb, python-crfsuite, pythainlp\n",
            "  Attempting uninstall: typing-extensions\n",
            "    Found existing installation: typing-extensions 3.7.4.3\n",
            "    Uninstalling typing-extensions-3.7.4.3:\n",
            "      Successfully uninstalled typing-extensions-3.7.4.3\n",
            "\u001b[31mERROR: pip's dependency resolver does not currently take into account all the packages that are installed. This behaviour is the source of the following dependency conflicts.\n",
            "tensorflow 2.6.0 requires typing-extensions~=3.7.4, but you have typing-extensions 3.10.0.0 which is incompatible.\u001b[0m\n",
            "Successfully installed pythainlp-2.3.1 python-crfsuite-0.9.7 tinydb-4.5.1 typing-extensions-3.10.0.0\n"
          ],
          "name": "stdout"
        },
        {
          "output_type": "display_data",
          "data": {
            "application/vnd.colab-display-data+json": {
              "pip_warning": {
                "packages": [
                  "typing_extensions"
                ]
              }
            }
          },
          "metadata": {
            "tags": []
          }
        }
      ]
    },
    {
      "cell_type": "code",
      "metadata": {
        "id": "zfOcJc5RQT0R"
      },
      "source": [
        "from pythainlp.tokenize import word_tokenize"
      ],
      "execution_count": null,
      "outputs": []
    },
    {
      "cell_type": "code",
      "metadata": {
        "colab": {
          "base_uri": "https://localhost:8080/"
        },
        "id": "tKfgPjRGQdaN",
        "outputId": "547ba790-1ec6-4cc4-ad22-419296b9f279"
      },
      "source": [
        "word_tokenize(corpus_thai[0])"
      ],
      "execution_count": null,
      "outputs": [
        {
          "output_type": "execute_result",
          "data": {
            "text/plain": [
              "['นี่', 'คือ', 'เอกสาร', 'ที่หนึ่ง']"
            ]
          },
          "metadata": {
            "tags": []
          },
          "execution_count": 11
        }
      ]
    },
    {
      "cell_type": "code",
      "metadata": {
        "colab": {
          "base_uri": "https://localhost:8080/"
        },
        "id": "4GjO4f4XRFCu",
        "outputId": "749477d8-8e4a-4895-fc86-f5530dcef2dc"
      },
      "source": [
        "# https://scikit-learn.org/stable/modules/generated/sklearn.feature_extraction.text.TfidfVectorizer.html\n",
        "vectorizer = TfidfVectorizer(lowercase=False, tokenizer=word_tokenize)\n",
        "X = vectorizer.fit_transform(corpus_thai)\n",
        "print(vectorizer.get_feature_names())\n",
        "print(X.shape)"
      ],
      "execution_count": null,
      "outputs": [
        {
          "output_type": "stream",
          "text": [
            "['คือ', 'ที่สอง', 'ที่สาม', 'ที่หนึ่ง', 'นี่', 'นี้', 'หรือไม่', 'อัน', 'เอกสาร', 'และ']\n",
            "(4, 10)\n"
          ],
          "name": "stdout"
        }
      ]
    },
    {
      "cell_type": "code",
      "metadata": {
        "id": "7Bq90OFYROzp"
      },
      "source": [
        "d5 = \"นี่คือเอกสารอันที่ห้า\"\n",
        "vec = vectorizer.transform([d5])"
      ],
      "execution_count": null,
      "outputs": []
    },
    {
      "cell_type": "code",
      "metadata": {
        "id": "9yetDUHUSasU"
      },
      "source": [
        "print(vec)"
      ],
      "execution_count": null,
      "outputs": []
    },
    {
      "cell_type": "code",
      "metadata": {
        "id": "swuxbTAvSbW7"
      },
      "source": [
        ""
      ],
      "execution_count": null,
      "outputs": []
    }
  ]
}