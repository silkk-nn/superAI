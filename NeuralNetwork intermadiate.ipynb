{
  "nbformat": 4,
  "nbformat_minor": 0,
  "metadata": {
    "kernelspec": {
      "display_name": "Python 3",
      "language": "python",
      "name": "python3"
    },
    "language_info": {
      "codemirror_mode": {
        "name": "ipython",
        "version": 3
      },
      "file_extension": ".py",
      "mimetype": "text/x-python",
      "name": "python",
      "nbconvert_exporter": "python",
      "pygments_lexer": "ipython3",
      "version": "3.8.5"
    },
    "colab": {
      "name": "Test.ipynb",
      "provenance": [],
      "toc_visible": true
    },
    "accelerator": "GPU"
  },
  "cells": [
    {
      "cell_type": "code",
      "metadata": {
        "id": "bq2z-gcBk7JD"
      },
      "source": [
        "import cv2\n",
        "import pandas as pd\n",
        "import numpy as np\n",
        "import scipy as sc\n",
        "import matplotlib.pyplot as plt\n",
        "import tensorflow as tf\n",
        "from tensorflow import keras\n",
        "from tensorflow.keras import Sequential, layers, Model\n",
        "from tensorflow.keras.layers import Conv2D, MaxPool2D, Flatten, Dense"
      ],
      "execution_count": 2,
      "outputs": []
    },
    {
      "cell_type": "markdown",
      "metadata": {
        "id": "-iB4C6l3lHhw"
      },
      "source": [
        "## VGG16 with Algorithm\n"
      ]
    },
    {
      "cell_type": "code",
      "metadata": {
        "id": "RCagrtSok7JJ"
      },
      "source": [
        "model = Sequential()\n",
        "model.add(Conv2D(64, (3, 3), padding=\"same\", activation=\"relu\", input_shape=(224, 224, 3)))\n",
        "model.add(Conv2D(64, (3, 3), padding=\"same\", activation=\"relu\"))\n",
        "model.add(MaxPool2D())\n",
        "model.add(Conv2D(128, (3, 3), padding=\"same\", activation=\"relu\"))\n",
        "model.add(Conv2D(128, (3, 3), padding=\"same\", activation=\"relu\"))\n",
        "model.add(MaxPool2D())\n",
        "model.add(Conv2D(256, (3, 3), padding=\"same\", activation=\"relu\"))\n",
        "model.add(Conv2D(256, (3, 3), padding=\"same\", activation=\"relu\"))\n",
        "model.add(Conv2D(256, (3, 3), padding=\"same\", activation=\"relu\"))\n",
        "model.add(MaxPool2D())\n",
        "model.add(Conv2D(512, (3, 3), padding=\"same\", activation=\"relu\"))\n",
        "model.add(Conv2D(512, (3, 3), padding=\"same\", activation=\"relu\"))\n",
        "model.add(Conv2D(512, (3, 3), padding=\"same\", activation=\"relu\"))\n",
        "model.add(MaxPool2D())\n",
        "model.add(Flatten())\n",
        "model.add(Dense(4096, activation=\"relu\"))\n",
        "model.add(Dense(4096, activation=\"relu\"))\n",
        "model.add(Dense(10, activation=\"softmax\"))\n",
        "model.compile(optimizer=keras.optimizers.Adam(learning_rate=0.0001),\n",
        "              loss=keras.losses.sparse_categorical_crossentropy)"
      ],
      "execution_count": null,
      "outputs": []
    },
    {
      "cell_type": "code",
      "metadata": {
        "id": "PAicsaY-ovxz"
      },
      "source": [
        "import tensorflow as tf\n",
        "(Xtrain, Ytrain), (Xtest, Ytest) = tf.keras.datasets.mnist.load_data()\n",
        "Xtrain = Xtrain[:, :, :, None] / 255.\n",
        "Xtest = Xtest[:, :, :, None] / 255.\n",
        "# Xtrain = tf.image.resize(Xtrain, (224, 224))\n",
        "# Xtrain = tf.image.grayscale_to_rgb(Xtrain)\n",
        "# Xtest = tf.image.resize(Xtest, (224, 224))\n",
        "# Xtrain = tf.image.grayscale_to_rgb(Xtest)\n"
      ],
      "execution_count": null,
      "outputs": []
    },
    {
      "cell_type": "code",
      "metadata": {
        "id": "XWjKXLAxpyL4"
      },
      "source": [
        "datagen = keras.preprocessing.image.ImageDataGenerator()\n",
        "batch = 128\n",
        "datagen.fit(Xtrain)\n",
        "num_batch = len(Xtrain) / batch\n",
        "Progbar = keras.utils.Progbar(num_batch)\n",
        "for epoch in range(50):\n",
        "    batches = 0\n",
        "    for x, y in datagen.flow(Xtrain, Ytrain, batch_size=batch):\n",
        "        x = tf.image.resize(x, (224, 224))\n",
        "        x = tf.image.grayscale_to_rgb(x)\n",
        "        history = model.fit(x, y, verbose=0)\n",
        "        batches += 1\n",
        "        Progbar.update(batches, values=[('loss', history.history['loss'][0])])\n",
        "        if batches >= num_batch:\n",
        "            print(epoch)\n",
        "            break\n"
      ],
      "execution_count": null,
      "outputs": []
    },
    {
      "cell_type": "markdown",
      "metadata": {
        "id": "0KxbD2VLvkTe"
      },
      "source": [
        "## VGG16 with Keras"
      ]
    },
    {
      "cell_type": "markdown",
      "metadata": {
        "id": "Jk4TUXz83NG2"
      },
      "source": [
        "### option1"
      ]
    },
    {
      "cell_type": "code",
      "metadata": {
        "id": "i00GuXPHuZgW"
      },
      "source": [
        "import tensorflow as tf\n",
        "from tensorflow.keras.applications.vgg16 import VGG16\n",
        "# vgg= VGG16(include_top=False, weights='imagenet')"
      ],
      "execution_count": null,
      "outputs": []
    },
    {
      "cell_type": "code",
      "metadata": {
        "id": "IA6jBhjwwj03",
        "colab": {
          "base_uri": "https://localhost:8080/"
        },
        "outputId": "182bebd1-214b-4051-aff0-020feefb4d7f"
      },
      "source": [
        "vgg.summary()"
      ],
      "execution_count": null,
      "outputs": [
        {
          "output_type": "stream",
          "name": "stdout",
          "text": [
            "Model: \"vgg16\"\n",
            "_________________________________________________________________\n",
            "Layer (type)                 Output Shape              Param #   \n",
            "=================================================================\n",
            "input_1 (InputLayer)         [(None, None, None, 3)]   0         \n",
            "_________________________________________________________________\n",
            "block1_conv1 (Conv2D)        (None, None, None, 64)    1792      \n",
            "_________________________________________________________________\n",
            "block1_conv2 (Conv2D)        (None, None, None, 64)    36928     \n",
            "_________________________________________________________________\n",
            "block1_pool (MaxPooling2D)   (None, None, None, 64)    0         \n",
            "_________________________________________________________________\n",
            "block2_conv1 (Conv2D)        (None, None, None, 128)   73856     \n",
            "_________________________________________________________________\n",
            "block2_conv2 (Conv2D)        (None, None, None, 128)   147584    \n",
            "_________________________________________________________________\n",
            "block2_pool (MaxPooling2D)   (None, None, None, 128)   0         \n",
            "_________________________________________________________________\n",
            "block3_conv1 (Conv2D)        (None, None, None, 256)   295168    \n",
            "_________________________________________________________________\n",
            "block3_conv2 (Conv2D)        (None, None, None, 256)   590080    \n",
            "_________________________________________________________________\n",
            "block3_conv3 (Conv2D)        (None, None, None, 256)   590080    \n",
            "_________________________________________________________________\n",
            "block3_pool (MaxPooling2D)   (None, None, None, 256)   0         \n",
            "_________________________________________________________________\n",
            "block4_conv1 (Conv2D)        (None, None, None, 512)   1180160   \n",
            "_________________________________________________________________\n",
            "block4_conv2 (Conv2D)        (None, None, None, 512)   2359808   \n",
            "_________________________________________________________________\n",
            "block4_conv3 (Conv2D)        (None, None, None, 512)   2359808   \n",
            "_________________________________________________________________\n",
            "block4_pool (MaxPooling2D)   (None, None, None, 512)   0         \n",
            "_________________________________________________________________\n",
            "block5_conv1 (Conv2D)        (None, None, None, 512)   2359808   \n",
            "_________________________________________________________________\n",
            "block5_conv2 (Conv2D)        (None, None, None, 512)   2359808   \n",
            "_________________________________________________________________\n",
            "block5_conv3 (Conv2D)        (None, None, None, 512)   2359808   \n",
            "_________________________________________________________________\n",
            "block5_pool (MaxPooling2D)   (None, None, None, 512)   0         \n",
            "=================================================================\n",
            "Total params: 14,714,688\n",
            "Trainable params: 14,714,688\n",
            "Non-trainable params: 0\n",
            "_________________________________________________________________\n"
          ]
        }
      ]
    },
    {
      "cell_type": "code",
      "metadata": {
        "id": "hh7N6isnk7JK",
        "colab": {
          "base_uri": "https://localhost:8080/"
        },
        "outputId": "0f5d5ed0-2dd2-48aa-c791-e7db7b5d2e97"
      },
      "source": [
        "from tensorflow.keras.applications.vgg16 import VGG16\n",
        "from tensorflow.keras import layers, Model\n",
        "\n",
        "vgg= VGG16(include_top=False, weights='imagenet')\n",
        "#fit input \n",
        "x_in = layers.Input(shape=(32, 32, 1)) \n",
        "x = layers.Conv2D(3, 1)(x_in) # Conv2D <-(link_node) x_in\n",
        "x = vgg(x)\n",
        "#fit output\n",
        "x = layers.Flatten()(x)\n",
        "x = layers.Dense(10, activation=\"softmax\")(x)\n",
        "model = Model(x_in, x)\n",
        "model.summary()"
      ],
      "execution_count": null,
      "outputs": [
        {
          "output_type": "stream",
          "name": "stdout",
          "text": [
            "Model: \"model_7\"\n",
            "_________________________________________________________________\n",
            "Layer (type)                 Output Shape              Param #   \n",
            "=================================================================\n",
            "input_13 (InputLayer)        [(None, 32, 32, 1)]       0         \n",
            "_________________________________________________________________\n",
            "conv2d_12 (Conv2D)           (None, 32, 32, 3)         6         \n",
            "_________________________________________________________________\n",
            "vgg16 (Functional)           (None, None, None, 512)   14714688  \n",
            "_________________________________________________________________\n",
            "flatten_8 (Flatten)          (None, 512)               0         \n",
            "_________________________________________________________________\n",
            "dense_10 (Dense)             (None, 10)                5130      \n",
            "=================================================================\n",
            "Total params: 14,719,824\n",
            "Trainable params: 14,719,824\n",
            "Non-trainable params: 0\n",
            "_________________________________________________________________\n"
          ]
        }
      ]
    },
    {
      "cell_type": "code",
      "metadata": {
        "id": "2gPLx_r-yiwl",
        "colab": {
          "base_uri": "https://localhost:8080/"
        },
        "outputId": "443ef082-79ab-49e5-d12a-23dfadd38324"
      },
      "source": [
        "Xtrain.shape"
      ],
      "execution_count": null,
      "outputs": [
        {
          "output_type": "execute_result",
          "data": {
            "text/plain": [
              "(60000, 28, 28, 1)"
            ]
          },
          "metadata": {},
          "execution_count": 17
        }
      ]
    },
    {
      "cell_type": "code",
      "metadata": {
        "id": "HBVYq0VIy4LF"
      },
      "source": [
        "Xtrain = tf.image.resize(Xtrain, (32, 32)) #vgg require 32*32"
      ],
      "execution_count": null,
      "outputs": []
    },
    {
      "cell_type": "code",
      "metadata": {
        "id": "-o-dQEZdy1OW",
        "colab": {
          "base_uri": "https://localhost:8080/"
        },
        "outputId": "b39d4d5d-5e46-4964-d079-7acad657205a"
      },
      "source": [
        "model.compile(loss='sparse_categorical_crossentropy', optimizer='sgd')\n",
        "model.fit(Xtrain, Ytrain, epochs=10)"
      ],
      "execution_count": null,
      "outputs": [
        {
          "output_type": "stream",
          "name": "stdout",
          "text": [
            "Epoch 1/10\n",
            "1875/1875 [==============================] - 32s 17ms/step - loss: 0.1246\n",
            "Epoch 2/10\n",
            "1875/1875 [==============================] - 32s 17ms/step - loss: 0.0271\n",
            "Epoch 3/10\n",
            "1875/1875 [==============================] - 32s 17ms/step - loss: 0.0186\n",
            "Epoch 4/10\n",
            "1875/1875 [==============================] - 32s 17ms/step - loss: 0.0136\n",
            "Epoch 5/10\n",
            "1875/1875 [==============================] - 32s 17ms/step - loss: 0.0108\n",
            "Epoch 6/10\n",
            "1875/1875 [==============================] - 32s 17ms/step - loss: 0.0088\n",
            "Epoch 7/10\n",
            "1875/1875 [==============================] - 32s 17ms/step - loss: 0.0074\n",
            "Epoch 8/10\n",
            "1875/1875 [==============================] - 32s 17ms/step - loss: 0.0058\n",
            "Epoch 9/10\n",
            "1875/1875 [==============================] - 32s 17ms/step - loss: 0.0048\n",
            "Epoch 10/10\n",
            "1875/1875 [==============================] - 32s 17ms/step - loss: 0.0037\n"
          ]
        },
        {
          "output_type": "execute_result",
          "data": {
            "text/plain": [
              "<keras.callbacks.History at 0x7f842d121f50>"
            ]
          },
          "metadata": {},
          "execution_count": 34
        }
      ]
    },
    {
      "cell_type": "code",
      "metadata": {
        "id": "dZmInPYm1G7H",
        "colab": {
          "base_uri": "https://localhost:8080/"
        },
        "outputId": "7cf5457e-44f9-4bf3-975b-202bff661850"
      },
      "source": [
        "import numpy as np\n",
        "Xtest = tf.image.resize(Xtest, (32, 32))\n",
        "Ztest = model.predict(Xtest)\n",
        "np.sum(Ztest.argmax(axis=1) == Ytest)/len(Ztest)"
      ],
      "execution_count": null,
      "outputs": [
        {
          "output_type": "execute_result",
          "data": {
            "text/plain": [
              "0.9952"
            ]
          },
          "metadata": {},
          "execution_count": 36
        }
      ]
    },
    {
      "cell_type": "markdown",
      "metadata": {
        "id": "8UYW1R8p3SOc"
      },
      "source": [
        "### option 2\n"
      ]
    },
    {
      "cell_type": "markdown",
      "metadata": {
        "id": "_Z18tzpKvee6"
      },
      "source": [
        "\n",
        "\n",
        "\n"
      ]
    },
    {
      "cell_type": "code",
      "metadata": {
        "id": "Djl7EEQQ3Rd2",
        "colab": {
          "base_uri": "https://localhost:8080/"
        },
        "outputId": "c4786abc-485c-4897-962a-ca9c828a8f49"
      },
      "source": [
        "import tensorflow as tf\n",
        "from tensorflow.keras.applications.vgg16 import VGG16\n",
        "vgg= VGG16(include_top=False, weights='imagenet', input_shape=(32, 32, 3)) #Always 3D\n",
        "\n",
        "#fit outpot\n",
        "x = layers.Flatten()(vgg.output)\n",
        "x = layers.Dense(10, activation=\"softmax\")(x)\n",
        "model = tf.keras.Model(vgg.input, x)\n",
        "model.summary()"
      ],
      "execution_count": null,
      "outputs": [
        {
          "output_type": "stream",
          "name": "stdout",
          "text": [
            "Model: \"model_6\"\n",
            "_________________________________________________________________\n",
            "Layer (type)                 Output Shape              Param #   \n",
            "=================================================================\n",
            "input_11 (InputLayer)        [(None, 32, 32, 3)]       0         \n",
            "_________________________________________________________________\n",
            "block1_conv1 (Conv2D)        (None, 32, 32, 64)        1792      \n",
            "_________________________________________________________________\n",
            "block1_conv2 (Conv2D)        (None, 32, 32, 64)        36928     \n",
            "_________________________________________________________________\n",
            "block1_pool (MaxPooling2D)   (None, 16, 16, 64)        0         \n",
            "_________________________________________________________________\n",
            "block2_conv1 (Conv2D)        (None, 16, 16, 128)       73856     \n",
            "_________________________________________________________________\n",
            "block2_conv2 (Conv2D)        (None, 16, 16, 128)       147584    \n",
            "_________________________________________________________________\n",
            "block2_pool (MaxPooling2D)   (None, 8, 8, 128)         0         \n",
            "_________________________________________________________________\n",
            "block3_conv1 (Conv2D)        (None, 8, 8, 256)         295168    \n",
            "_________________________________________________________________\n",
            "block3_conv2 (Conv2D)        (None, 8, 8, 256)         590080    \n",
            "_________________________________________________________________\n",
            "block3_conv3 (Conv2D)        (None, 8, 8, 256)         590080    \n",
            "_________________________________________________________________\n",
            "block3_pool (MaxPooling2D)   (None, 4, 4, 256)         0         \n",
            "_________________________________________________________________\n",
            "block4_conv1 (Conv2D)        (None, 4, 4, 512)         1180160   \n",
            "_________________________________________________________________\n",
            "block4_conv2 (Conv2D)        (None, 4, 4, 512)         2359808   \n",
            "_________________________________________________________________\n",
            "block4_conv3 (Conv2D)        (None, 4, 4, 512)         2359808   \n",
            "_________________________________________________________________\n",
            "block4_pool (MaxPooling2D)   (None, 2, 2, 512)         0         \n",
            "_________________________________________________________________\n",
            "block5_conv1 (Conv2D)        (None, 2, 2, 512)         2359808   \n",
            "_________________________________________________________________\n",
            "block5_conv2 (Conv2D)        (None, 2, 2, 512)         2359808   \n",
            "_________________________________________________________________\n",
            "block5_conv3 (Conv2D)        (None, 2, 2, 512)         2359808   \n",
            "_________________________________________________________________\n",
            "block5_pool (MaxPooling2D)   (None, 1, 1, 512)         0         \n",
            "_________________________________________________________________\n",
            "flatten_7 (Flatten)          (None, 512)               0         \n",
            "_________________________________________________________________\n",
            "dense_9 (Dense)              (None, 10)                5130      \n",
            "=================================================================\n",
            "Total params: 14,719,818\n",
            "Trainable params: 14,719,818\n",
            "Non-trainable params: 0\n",
            "_________________________________________________________________\n"
          ]
        }
      ]
    },
    {
      "cell_type": "code",
      "metadata": {
        "id": "ys6s3FIo4JOS"
      },
      "source": [
        "Xtrain = tf.image.grayscale_to_rgb(Xtrain)\n"
      ],
      "execution_count": null,
      "outputs": []
    },
    {
      "cell_type": "code",
      "metadata": {
        "id": "M2kt5L6J6iCb"
      },
      "source": [
        "model.compile(loss='sparse_categorical_crossentropy', optimizer='sgd')\n",
        "model.fit(Xtrain, Ytrain, epochs=10)"
      ],
      "execution_count": null,
      "outputs": []
    },
    {
      "cell_type": "code",
      "metadata": {
        "id": "L8K-cXDf6upe"
      },
      "source": [
        "import numpy as np\n",
        "Xtest = tf.image..grayscale_to_rgb(Xtest)\n",
        "Ztest = model.predict(Xtest)\n",
        "np.sum(Ztest.argmax(axis=1) == Ytest)/len(Ztest)"
      ],
      "execution_count": null,
      "outputs": []
    },
    {
      "cell_type": "markdown",
      "metadata": {
        "id": "KfCvYgs46gjd"
      },
      "source": [
        ""
      ]
    },
    {
      "cell_type": "markdown",
      "metadata": {
        "id": "kB58k82aB56S"
      },
      "source": [
        "## Autoencoder"
      ]
    },
    {
      "cell_type": "code",
      "metadata": {
        "id": "9O_sVnigCERg",
        "colab": {
          "base_uri": "https://localhost:8080/"
        },
        "outputId": "c553f2e4-9e39-4d59-acf9-1e9253d1eb47"
      },
      "source": [
        "x = np.eye(8).astype(np.float32)\n",
        "print(x)"
      ],
      "execution_count": 3,
      "outputs": [
        {
          "output_type": "stream",
          "name": "stdout",
          "text": [
            "[[1. 0. 0. 0. 0. 0. 0. 0.]\n",
            " [0. 1. 0. 0. 0. 0. 0. 0.]\n",
            " [0. 0. 1. 0. 0. 0. 0. 0.]\n",
            " [0. 0. 0. 1. 0. 0. 0. 0.]\n",
            " [0. 0. 0. 0. 1. 0. 0. 0.]\n",
            " [0. 0. 0. 0. 0. 1. 0. 0.]\n",
            " [0. 0. 0. 0. 0. 0. 1. 0.]\n",
            " [0. 0. 0. 0. 0. 0. 0. 1.]]\n"
          ]
        }
      ]
    },
    {
      "cell_type": "code",
      "metadata": {
        "id": "Sqk-zrMMCNCI"
      },
      "source": [
        "inputs = keras.Input(shape=x.shape[1])\n",
        "encoder = keras.layers.Dense(3, activation='sigmoid')\n",
        "decoder = keras.layers.Dense(x.shape[1], activation='sigmoid')\n",
        "outputs = decoder(encoder(inputs))\n",
        "model = Model(inputs, outputs)\n",
        "model.compile(loss='mse', optimizer=keras.optimizers.SGD(learning_rate=3.5))"
      ],
      "execution_count": 6,
      "outputs": []
    },
    {
      "cell_type": "code",
      "metadata": {
        "id": "x2Fl7lnODIuo",
        "colab": {
          "base_uri": "https://localhost:8080/"
        },
        "outputId": "96f3ac9b-f8e3-42da-89bd-2b9097f036c0"
      },
      "source": [
        "model.summary() #27 = (8*3) + 4(bias = node)"
      ],
      "execution_count": 7,
      "outputs": [
        {
          "output_type": "stream",
          "name": "stdout",
          "text": [
            "Model: \"model_1\"\n",
            "_________________________________________________________________\n",
            "Layer (type)                 Output Shape              Param #   \n",
            "=================================================================\n",
            "input_2 (InputLayer)         [(None, 8)]               0         \n",
            "_________________________________________________________________\n",
            "dense_2 (Dense)              (None, 3)                 27        \n",
            "_________________________________________________________________\n",
            "dense_3 (Dense)              (None, 8)                 32        \n",
            "=================================================================\n",
            "Total params: 59\n",
            "Trainable params: 59\n",
            "Non-trainable params: 0\n",
            "_________________________________________________________________\n"
          ]
        }
      ]
    },
    {
      "cell_type": "code",
      "metadata": {
        "id": "oxxdesaQDf5j",
        "colab": {
          "base_uri": "https://localhost:8080/"
        },
        "outputId": "80307609-defb-4e02-bf0c-e7aefc543e66"
      },
      "source": [
        "model.fit(x, x, epochs=2000, verbose=0)"
      ],
      "execution_count": 8,
      "outputs": [
        {
          "output_type": "execute_result",
          "data": {
            "text/plain": [
              "<keras.callbacks.History at 0x7fdc50729650>"
            ]
          },
          "metadata": {},
          "execution_count": 8
        }
      ]
    },
    {
      "cell_type": "code",
      "metadata": {
        "id": "F3BacIHxEXnG"
      },
      "source": [
        "Z = model.predict(x)"
      ],
      "execution_count": 9,
      "outputs": []
    },
    {
      "cell_type": "code",
      "metadata": {
        "id": "3xufpH1REqHE",
        "colab": {
          "base_uri": "https://localhost:8080/"
        },
        "outputId": "87634e50-8de9-4e24-af9a-ab82a54fd208"
      },
      "source": [
        "np.round(Z)"
      ],
      "execution_count": 10,
      "outputs": [
        {
          "output_type": "execute_result",
          "data": {
            "text/plain": [
              "array([[0., 0., 0., 0., 0., 0., 0., 0.],\n",
              "       [0., 1., 0., 0., 0., 0., 0., 0.],\n",
              "       [0., 0., 1., 0., 0., 0., 0., 0.],\n",
              "       [0., 0., 0., 1., 0., 0., 0., 0.],\n",
              "       [0., 0., 0., 0., 1., 0., 0., 0.],\n",
              "       [0., 0., 0., 0., 0., 1., 0., 0.],\n",
              "       [0., 0., 0., 0., 0., 0., 1., 0.],\n",
              "       [0., 0., 0., 0., 0., 0., 0., 1.]], dtype=float32)"
            ]
          },
          "metadata": {},
          "execution_count": 10
        }
      ]
    },
    {
      "cell_type": "code",
      "metadata": {
        "id": "TYa6pEyiEwS6",
        "colab": {
          "base_uri": "https://localhost:8080/"
        },
        "outputId": "3ba64892-c167-4f03-f838-00e60047ea8a"
      },
      "source": [
        "  E = encoder(x)\n",
        "  np.round(E)"
      ],
      "execution_count": 11,
      "outputs": [
        {
          "output_type": "execute_result",
          "data": {
            "text/plain": [
              "array([[0., 1., 0.],\n",
              "       [0., 0., 0.],\n",
              "       [1., 1., 1.],\n",
              "       [1., 0., 0.],\n",
              "       [1., 0., 1.],\n",
              "       [1., 1., 0.],\n",
              "       [0., 1., 1.],\n",
              "       [0., 1., 0.]], dtype=float32)"
            ]
          },
          "metadata": {},
          "execution_count": 11
        }
      ]
    },
    {
      "cell_type": "markdown",
      "metadata": {
        "id": "EBZiSao6FhMw"
      },
      "source": [
        "## Feature Extraction"
      ]
    },
    {
      "cell_type": "code",
      "metadata": {
        "id": "hM9dWDgQIezq"
      },
      "source": [
        "from sklearn.svm import SVC\n",
        "from sklearn.metrics import accuracy_score, confusion_matrix\n",
        "from tensorflow.keras import Model, Input, layers, losses, optimizers, datasets\n",
        "import matplotlib.pyplot as plt\n"
      ],
      "execution_count": 14,
      "outputs": []
    },
    {
      "cell_type": "code",
      "metadata": {
        "id": "zYl7e6omLeOn"
      },
      "source": [
        "(X, Y), (Xtest, Ytest) = datasets.mnist.load_data()\n",
        "X = X.astype(np.float32) / 255.0\n",
        "Xtest = Xtest.astype(np.float32) / 255.0\n",
        "X = X.reshape(-1, 28*28)\n",
        "Xtest = Xtest.reshape(-1, 28*28)"
      ],
      "execution_count": 17,
      "outputs": []
    },
    {
      "cell_type": "code",
      "metadata": {
        "id": "cJjs1wkqIuM6",
        "colab": {
          "base_uri": "https://localhost:8080/"
        },
        "outputId": "0f580ecd-ac35-4f14-bebd-72724ba7f2f7"
      },
      "source": [
        "clf = SVC()\n",
        "clf.fit(X, Y)\n",
        "Z = clf.predict(Xtest)\n",
        "print(\"Accuracy rate = \", accuracy_score(Ytest, Z))\n",
        "print(\"Confusion Matrix:\")\n",
        "print(confusion_matrix(Ytest, Z))"
      ],
      "execution_count": 18,
      "outputs": [
        {
          "output_type": "stream",
          "name": "stdout",
          "text": [
            "Accuracy rate =  0.9792\n",
            "Confusion Matrix:\n",
            "[[ 973    0    1    0    0    2    1    1    2    0]\n",
            " [   0 1126    3    1    0    1    1    1    2    0]\n",
            " [   6    1 1006    2    1    0    2    7    6    1]\n",
            " [   0    0    2  995    0    2    0    5    5    1]\n",
            " [   0    0    5    0  961    0    3    0    2   11]\n",
            " [   2    0    0    9    0  871    4    1    4    1]\n",
            " [   6    2    0    0    2    3  944    0    1    0]\n",
            " [   0    6   11    1    1    0    0  996    2   11]\n",
            " [   3    0    2    6    3    2    2    3  950    3]\n",
            " [   3    4    1    7   10    2    1    7    4  970]]\n"
          ]
        }
      ]
    },
    {
      "cell_type": "code",
      "metadata": {
        "id": "SnURVy0-JUYV",
        "outputId": "58d33236-2f7b-4301-95f4-095846589f58",
        "colab": {
          "base_uri": "https://localhost:8080/"
        }
      },
      "source": [
        "inputs = Input(shape=X.shape[1])\n",
        "\n",
        "en1 = layers.Dense(X.shape[1] // 2, activation=\"relu\")\n",
        "en2 = layers.Dense(X.shape[1] // 4, activation=\"relu\")\n",
        "en3 = layers.Dense(X.shape[1] // 2, activation=\"relu\")\n",
        "\n",
        "de1 = layers.Dense(X.shape[1] // 4, activation=\"relu\")\n",
        "de2 = layers.Dense(X.shape[1] // 2, activation=\"relu\")\n",
        "de3 = layers.Dense(X.shape[1], activation=\"relu\")\n",
        "\n",
        "outputs = de3(de2(de1(en3(en2(en1(inputs))))))\n",
        "model = Model(inputs, outputs)\n",
        "model.compile(loss=losses.MeanSquaredError(),\n",
        "              optimizer=optimizers.SGD(learning_rate=0.1))\n",
        "model.fit(X, X, epochs=200)"
      ],
      "execution_count": 20,
      "outputs": [
        {
          "output_type": "stream",
          "name": "stdout",
          "text": [
            "Epoch 1/200\n",
            "1875/1875 [==============================] - 5s 2ms/step - loss: 0.0774\n",
            "Epoch 2/200\n",
            "1875/1875 [==============================] - 4s 2ms/step - loss: 0.0649\n",
            "Epoch 3/200\n",
            "1875/1875 [==============================] - 4s 2ms/step - loss: 0.0529\n",
            "Epoch 4/200\n",
            "1875/1875 [==============================] - 4s 2ms/step - loss: 0.0452\n",
            "Epoch 5/200\n",
            "1875/1875 [==============================] - 4s 2ms/step - loss: 0.0408\n",
            "Epoch 6/200\n",
            "1875/1875 [==============================] - 4s 2ms/step - loss: 0.0378\n",
            "Epoch 7/200\n",
            "1875/1875 [==============================] - 4s 2ms/step - loss: 0.0356\n",
            "Epoch 8/200\n",
            "1875/1875 [==============================] - 4s 2ms/step - loss: 0.0338\n",
            "Epoch 9/200\n",
            "1875/1875 [==============================] - 4s 2ms/step - loss: 0.0323\n",
            "Epoch 10/200\n",
            "1875/1875 [==============================] - 4s 2ms/step - loss: 0.0311\n",
            "Epoch 11/200\n",
            "1875/1875 [==============================] - 4s 2ms/step - loss: 0.0301\n",
            "Epoch 12/200\n",
            "1875/1875 [==============================] - 4s 2ms/step - loss: 0.0293\n",
            "Epoch 13/200\n",
            "1875/1875 [==============================] - 4s 2ms/step - loss: 0.0282\n",
            "Epoch 14/200\n",
            "1875/1875 [==============================] - 4s 2ms/step - loss: 0.0275\n",
            "Epoch 15/200\n",
            "1875/1875 [==============================] - 4s 2ms/step - loss: 0.0267\n",
            "Epoch 16/200\n",
            "1875/1875 [==============================] - 4s 2ms/step - loss: 0.0262\n",
            "Epoch 17/200\n",
            "1875/1875 [==============================] - 4s 2ms/step - loss: 0.0258\n",
            "Epoch 18/200\n",
            "1875/1875 [==============================] - 4s 2ms/step - loss: 0.0251\n",
            "Epoch 19/200\n",
            "1875/1875 [==============================] - 4s 2ms/step - loss: 0.0244\n",
            "Epoch 20/200\n",
            "1875/1875 [==============================] - 4s 2ms/step - loss: 0.0241\n",
            "Epoch 21/200\n",
            "1875/1875 [==============================] - 4s 2ms/step - loss: 0.0236\n",
            "Epoch 22/200\n",
            "1875/1875 [==============================] - 4s 2ms/step - loss: 0.0233\n",
            "Epoch 23/200\n",
            "1875/1875 [==============================] - 4s 2ms/step - loss: 0.0230\n",
            "Epoch 24/200\n",
            "1875/1875 [==============================] - 4s 2ms/step - loss: 0.0227\n",
            "Epoch 25/200\n",
            "1875/1875 [==============================] - 4s 2ms/step - loss: 0.0225\n",
            "Epoch 26/200\n",
            "1875/1875 [==============================] - 4s 2ms/step - loss: 0.0223\n",
            "Epoch 27/200\n",
            "1875/1875 [==============================] - 4s 2ms/step - loss: 0.0221\n",
            "Epoch 28/200\n",
            "1875/1875 [==============================] - 4s 2ms/step - loss: 0.0220\n",
            "Epoch 29/200\n",
            "1875/1875 [==============================] - 4s 2ms/step - loss: 0.0218\n",
            "Epoch 30/200\n",
            "1875/1875 [==============================] - 4s 2ms/step - loss: 0.0217\n",
            "Epoch 31/200\n",
            "1875/1875 [==============================] - 4s 2ms/step - loss: 0.0215\n",
            "Epoch 32/200\n",
            "1875/1875 [==============================] - 4s 2ms/step - loss: 0.0214\n",
            "Epoch 33/200\n",
            "1875/1875 [==============================] - 4s 2ms/step - loss: 0.0213\n",
            "Epoch 34/200\n",
            "1875/1875 [==============================] - 4s 2ms/step - loss: 0.0212\n",
            "Epoch 35/200\n",
            "1875/1875 [==============================] - 4s 2ms/step - loss: 0.0210\n",
            "Epoch 36/200\n",
            "1875/1875 [==============================] - 4s 2ms/step - loss: 0.0209\n",
            "Epoch 37/200\n",
            "1875/1875 [==============================] - 4s 2ms/step - loss: 0.0207\n",
            "Epoch 38/200\n",
            "1875/1875 [==============================] - 4s 2ms/step - loss: 0.0206\n",
            "Epoch 39/200\n",
            "1875/1875 [==============================] - 4s 2ms/step - loss: 0.0203\n",
            "Epoch 40/200\n",
            "1875/1875 [==============================] - 4s 2ms/step - loss: 0.0201\n",
            "Epoch 41/200\n",
            "1875/1875 [==============================] - 4s 2ms/step - loss: 0.0200\n",
            "Epoch 42/200\n",
            "1875/1875 [==============================] - 4s 2ms/step - loss: 0.0199\n",
            "Epoch 43/200\n",
            "1875/1875 [==============================] - 4s 2ms/step - loss: 0.0198\n",
            "Epoch 44/200\n",
            "1875/1875 [==============================] - 4s 2ms/step - loss: 0.0198\n",
            "Epoch 45/200\n",
            "1875/1875 [==============================] - 4s 2ms/step - loss: 0.0197\n",
            "Epoch 46/200\n",
            "1875/1875 [==============================] - 4s 2ms/step - loss: 0.0196\n",
            "Epoch 47/200\n",
            "1875/1875 [==============================] - 4s 2ms/step - loss: 0.0195\n",
            "Epoch 48/200\n",
            "1875/1875 [==============================] - 4s 2ms/step - loss: 0.0195\n",
            "Epoch 49/200\n",
            "1875/1875 [==============================] - 4s 2ms/step - loss: 0.0193\n",
            "Epoch 50/200\n",
            "1875/1875 [==============================] - 4s 2ms/step - loss: 0.0191\n",
            "Epoch 51/200\n",
            "1875/1875 [==============================] - 4s 2ms/step - loss: 0.0191\n",
            "Epoch 52/200\n",
            "1875/1875 [==============================] - 4s 2ms/step - loss: 0.0190\n",
            "Epoch 53/200\n",
            "1875/1875 [==============================] - 4s 2ms/step - loss: 0.0189\n",
            "Epoch 54/200\n",
            "1875/1875 [==============================] - 4s 2ms/step - loss: 0.0189\n",
            "Epoch 55/200\n",
            "1875/1875 [==============================] - 4s 2ms/step - loss: 0.0188\n",
            "Epoch 56/200\n",
            "1875/1875 [==============================] - 4s 2ms/step - loss: 0.0188\n",
            "Epoch 57/200\n",
            "1875/1875 [==============================] - 4s 2ms/step - loss: 0.0187\n",
            "Epoch 58/200\n",
            "1875/1875 [==============================] - 4s 2ms/step - loss: 0.0187\n",
            "Epoch 59/200\n",
            "1875/1875 [==============================] - 4s 2ms/step - loss: 0.0186\n",
            "Epoch 60/200\n",
            "1875/1875 [==============================] - 4s 2ms/step - loss: 0.0186\n",
            "Epoch 61/200\n",
            "1875/1875 [==============================] - 4s 2ms/step - loss: 0.0185\n",
            "Epoch 62/200\n",
            "1875/1875 [==============================] - 4s 2ms/step - loss: 0.0182\n",
            "Epoch 63/200\n",
            "1875/1875 [==============================] - 4s 2ms/step - loss: 0.0181\n",
            "Epoch 64/200\n",
            "1875/1875 [==============================] - 4s 2ms/step - loss: 0.0180\n",
            "Epoch 65/200\n",
            "1875/1875 [==============================] - 4s 2ms/step - loss: 0.0180\n",
            "Epoch 66/200\n",
            "1875/1875 [==============================] - 4s 2ms/step - loss: 0.0179\n",
            "Epoch 67/200\n",
            "1875/1875 [==============================] - 4s 2ms/step - loss: 0.0179\n",
            "Epoch 68/200\n",
            "1875/1875 [==============================] - 4s 2ms/step - loss: 0.0179\n",
            "Epoch 69/200\n",
            "1875/1875 [==============================] - 4s 2ms/step - loss: 0.0178\n",
            "Epoch 70/200\n",
            "1875/1875 [==============================] - 4s 2ms/step - loss: 0.0178\n",
            "Epoch 71/200\n",
            "1875/1875 [==============================] - 4s 2ms/step - loss: 0.0177\n",
            "Epoch 72/200\n",
            "1875/1875 [==============================] - 4s 2ms/step - loss: 0.0177\n",
            "Epoch 73/200\n",
            "1875/1875 [==============================] - 4s 2ms/step - loss: 0.0177\n",
            "Epoch 74/200\n",
            "1875/1875 [==============================] - 4s 2ms/step - loss: 0.0175\n",
            "Epoch 75/200\n",
            "1875/1875 [==============================] - 4s 2ms/step - loss: 0.0171\n",
            "Epoch 76/200\n",
            "1875/1875 [==============================] - 4s 2ms/step - loss: 0.0170\n",
            "Epoch 77/200\n",
            "1875/1875 [==============================] - 4s 2ms/step - loss: 0.0170\n",
            "Epoch 78/200\n",
            "1875/1875 [==============================] - 4s 2ms/step - loss: 0.0170\n",
            "Epoch 79/200\n",
            "1875/1875 [==============================] - 4s 2ms/step - loss: 0.0169\n",
            "Epoch 80/200\n",
            "1875/1875 [==============================] - 4s 2ms/step - loss: 0.0169\n",
            "Epoch 81/200\n",
            "1875/1875 [==============================] - 4s 2ms/step - loss: 0.0169\n",
            "Epoch 82/200\n",
            "1875/1875 [==============================] - 4s 2ms/step - loss: 0.0168\n",
            "Epoch 83/200\n",
            "1875/1875 [==============================] - 4s 2ms/step - loss: 0.0168\n",
            "Epoch 84/200\n",
            "1875/1875 [==============================] - 4s 2ms/step - loss: 0.0168\n",
            "Epoch 85/200\n",
            "1875/1875 [==============================] - 4s 2ms/step - loss: 0.0167\n",
            "Epoch 86/200\n",
            "1875/1875 [==============================] - 4s 2ms/step - loss: 0.0167\n",
            "Epoch 87/200\n",
            "1875/1875 [==============================] - 4s 2ms/step - loss: 0.0167\n",
            "Epoch 88/200\n",
            "1875/1875 [==============================] - 4s 2ms/step - loss: 0.0167\n",
            "Epoch 89/200\n",
            "1875/1875 [==============================] - 4s 2ms/step - loss: 0.0166\n",
            "Epoch 90/200\n",
            "1875/1875 [==============================] - 4s 2ms/step - loss: 0.0166\n",
            "Epoch 91/200\n",
            "1875/1875 [==============================] - 4s 2ms/step - loss: 0.0165\n",
            "Epoch 92/200\n",
            "1875/1875 [==============================] - 4s 2ms/step - loss: 0.0162\n",
            "Epoch 93/200\n",
            "1875/1875 [==============================] - 4s 2ms/step - loss: 0.0161\n",
            "Epoch 94/200\n",
            "1875/1875 [==============================] - 4s 2ms/step - loss: 0.0161\n",
            "Epoch 95/200\n",
            "1875/1875 [==============================] - 4s 2ms/step - loss: 0.0160\n",
            "Epoch 96/200\n",
            "1875/1875 [==============================] - 4s 2ms/step - loss: 0.0160\n",
            "Epoch 97/200\n",
            "1875/1875 [==============================] - 4s 2ms/step - loss: 0.0160\n",
            "Epoch 98/200\n",
            "1875/1875 [==============================] - 4s 2ms/step - loss: 0.0159\n",
            "Epoch 99/200\n",
            "1875/1875 [==============================] - 4s 2ms/step - loss: 0.0159\n",
            "Epoch 100/200\n",
            "1875/1875 [==============================] - 4s 2ms/step - loss: 0.0159\n",
            "Epoch 101/200\n",
            "1875/1875 [==============================] - 4s 2ms/step - loss: 0.0158\n",
            "Epoch 102/200\n",
            "1875/1875 [==============================] - 4s 2ms/step - loss: 0.0158\n",
            "Epoch 103/200\n",
            "1875/1875 [==============================] - 4s 2ms/step - loss: 0.0158\n",
            "Epoch 104/200\n",
            "1875/1875 [==============================] - 4s 2ms/step - loss: 0.0158\n",
            "Epoch 105/200\n",
            "1875/1875 [==============================] - 4s 2ms/step - loss: 0.0157\n",
            "Epoch 106/200\n",
            "1875/1875 [==============================] - 4s 2ms/step - loss: 0.0157\n",
            "Epoch 107/200\n",
            "1875/1875 [==============================] - 4s 2ms/step - loss: 0.0157\n",
            "Epoch 108/200\n",
            "1875/1875 [==============================] - 4s 2ms/step - loss: 0.0157\n",
            "Epoch 109/200\n",
            "1875/1875 [==============================] - 4s 2ms/step - loss: 0.0157\n",
            "Epoch 110/200\n",
            "1875/1875 [==============================] - 4s 2ms/step - loss: 0.0156\n",
            "Epoch 111/200\n",
            "1875/1875 [==============================] - 4s 2ms/step - loss: 0.0156\n",
            "Epoch 112/200\n",
            "1875/1875 [==============================] - 4s 2ms/step - loss: 0.0156\n",
            "Epoch 113/200\n",
            "1875/1875 [==============================] - 4s 2ms/step - loss: 0.0156\n",
            "Epoch 114/200\n",
            "1875/1875 [==============================] - 4s 2ms/step - loss: 0.0156\n",
            "Epoch 115/200\n",
            "1875/1875 [==============================] - 4s 2ms/step - loss: 0.0156\n",
            "Epoch 116/200\n",
            "1875/1875 [==============================] - 4s 2ms/step - loss: 0.0155\n",
            "Epoch 117/200\n",
            "1875/1875 [==============================] - 4s 2ms/step - loss: 0.0155\n",
            "Epoch 118/200\n",
            "1875/1875 [==============================] - 4s 2ms/step - loss: 0.0155\n",
            "Epoch 119/200\n",
            "1875/1875 [==============================] - 4s 2ms/step - loss: 0.0155\n",
            "Epoch 120/200\n",
            "1875/1875 [==============================] - 4s 2ms/step - loss: 0.0155\n",
            "Epoch 121/200\n",
            "1875/1875 [==============================] - 4s 2ms/step - loss: 0.0155\n",
            "Epoch 122/200\n",
            "1875/1875 [==============================] - 4s 2ms/step - loss: 0.0154\n",
            "Epoch 123/200\n",
            "1875/1875 [==============================] - 4s 2ms/step - loss: 0.0154\n",
            "Epoch 124/200\n",
            "1875/1875 [==============================] - 4s 2ms/step - loss: 0.0154\n",
            "Epoch 125/200\n",
            "1875/1875 [==============================] - 4s 2ms/step - loss: 0.0154\n",
            "Epoch 126/200\n",
            "1875/1875 [==============================] - 4s 2ms/step - loss: 0.0153\n",
            "Epoch 127/200\n",
            "1875/1875 [==============================] - 4s 2ms/step - loss: 0.0152\n",
            "Epoch 128/200\n",
            "1875/1875 [==============================] - 4s 2ms/step - loss: 0.0152\n",
            "Epoch 129/200\n",
            "1875/1875 [==============================] - 4s 2ms/step - loss: 0.0151\n",
            "Epoch 130/200\n",
            "1875/1875 [==============================] - 4s 2ms/step - loss: 0.0151\n",
            "Epoch 131/200\n",
            "1875/1875 [==============================] - 4s 2ms/step - loss: 0.0151\n",
            "Epoch 132/200\n",
            "1875/1875 [==============================] - 4s 2ms/step - loss: 0.0151\n",
            "Epoch 133/200\n",
            "1875/1875 [==============================] - 4s 2ms/step - loss: 0.0151\n",
            "Epoch 134/200\n",
            "1875/1875 [==============================] - 4s 2ms/step - loss: 0.0150\n",
            "Epoch 135/200\n",
            "1875/1875 [==============================] - 4s 2ms/step - loss: 0.0150\n",
            "Epoch 136/200\n",
            "1875/1875 [==============================] - 4s 2ms/step - loss: 0.0150\n",
            "Epoch 137/200\n",
            "1875/1875 [==============================] - 4s 2ms/step - loss: 0.0150\n",
            "Epoch 138/200\n",
            "1875/1875 [==============================] - 4s 2ms/step - loss: 0.0150\n",
            "Epoch 139/200\n",
            "1875/1875 [==============================] - 4s 2ms/step - loss: 0.0150\n",
            "Epoch 140/200\n",
            "1875/1875 [==============================] - 4s 2ms/step - loss: 0.0150\n",
            "Epoch 141/200\n",
            "1875/1875 [==============================] - 4s 2ms/step - loss: 0.0149\n",
            "Epoch 142/200\n",
            "1875/1875 [==============================] - 4s 2ms/step - loss: 0.0149\n",
            "Epoch 143/200\n",
            "1875/1875 [==============================] - 4s 2ms/step - loss: 0.0149\n",
            "Epoch 144/200\n",
            "1875/1875 [==============================] - 4s 2ms/step - loss: 0.0149\n",
            "Epoch 145/200\n",
            "1875/1875 [==============================] - 4s 2ms/step - loss: 0.0149\n",
            "Epoch 146/200\n",
            "1875/1875 [==============================] - 4s 2ms/step - loss: 0.0149\n",
            "Epoch 147/200\n",
            "1875/1875 [==============================] - 4s 2ms/step - loss: 0.0149\n",
            "Epoch 148/200\n",
            "1875/1875 [==============================] - 4s 2ms/step - loss: 0.0149\n",
            "Epoch 149/200\n",
            "1875/1875 [==============================] - 4s 2ms/step - loss: 0.0149\n",
            "Epoch 150/200\n",
            "1875/1875 [==============================] - 4s 2ms/step - loss: 0.0148\n",
            "Epoch 151/200\n",
            "1875/1875 [==============================] - 4s 2ms/step - loss: 0.0148\n",
            "Epoch 152/200\n",
            "1875/1875 [==============================] - 4s 2ms/step - loss: 0.0148\n",
            "Epoch 153/200\n",
            "1875/1875 [==============================] - 4s 2ms/step - loss: 0.0148\n",
            "Epoch 154/200\n",
            "1875/1875 [==============================] - 4s 2ms/step - loss: 0.0148\n",
            "Epoch 155/200\n",
            "1875/1875 [==============================] - 4s 2ms/step - loss: 0.0148\n",
            "Epoch 156/200\n",
            "1875/1875 [==============================] - 4s 2ms/step - loss: 0.0148\n",
            "Epoch 157/200\n",
            "1875/1875 [==============================] - 4s 2ms/step - loss: 0.0148\n",
            "Epoch 158/200\n",
            "1875/1875 [==============================] - 4s 2ms/step - loss: 0.0148\n",
            "Epoch 159/200\n",
            "1875/1875 [==============================] - 4s 2ms/step - loss: 0.0148\n",
            "Epoch 160/200\n",
            "1875/1875 [==============================] - 4s 2ms/step - loss: 0.0147\n",
            "Epoch 161/200\n",
            "1875/1875 [==============================] - 4s 2ms/step - loss: 0.0147\n",
            "Epoch 162/200\n",
            "1875/1875 [==============================] - 4s 2ms/step - loss: 0.0147\n",
            "Epoch 163/200\n",
            "1875/1875 [==============================] - 4s 2ms/step - loss: 0.0147\n",
            "Epoch 164/200\n",
            "1875/1875 [==============================] - 4s 2ms/step - loss: 0.0147\n",
            "Epoch 165/200\n",
            "1875/1875 [==============================] - 4s 2ms/step - loss: 0.0147\n",
            "Epoch 166/200\n",
            "1875/1875 [==============================] - 4s 2ms/step - loss: 0.0147\n",
            "Epoch 167/200\n",
            "1875/1875 [==============================] - 4s 2ms/step - loss: 0.0145\n",
            "Epoch 168/200\n",
            "1875/1875 [==============================] - 4s 2ms/step - loss: 0.0145\n",
            "Epoch 169/200\n",
            "1875/1875 [==============================] - 4s 2ms/step - loss: 0.0144\n",
            "Epoch 170/200\n",
            "1875/1875 [==============================] - 4s 2ms/step - loss: 0.0144\n",
            "Epoch 171/200\n",
            "1875/1875 [==============================] - 4s 2ms/step - loss: 0.0144\n",
            "Epoch 172/200\n",
            "1875/1875 [==============================] - 4s 2ms/step - loss: 0.0144\n",
            "Epoch 173/200\n",
            "1875/1875 [==============================] - 4s 2ms/step - loss: 0.0144\n",
            "Epoch 174/200\n",
            "1875/1875 [==============================] - 4s 2ms/step - loss: 0.0144\n",
            "Epoch 175/200\n",
            "1875/1875 [==============================] - 4s 2ms/step - loss: 0.0144\n",
            "Epoch 176/200\n",
            "1875/1875 [==============================] - 4s 2ms/step - loss: 0.0144\n",
            "Epoch 177/200\n",
            "1875/1875 [==============================] - 4s 2ms/step - loss: 0.0143\n",
            "Epoch 178/200\n",
            "1875/1875 [==============================] - 4s 2ms/step - loss: 0.0143\n",
            "Epoch 179/200\n",
            "1875/1875 [==============================] - 4s 2ms/step - loss: 0.0143\n",
            "Epoch 180/200\n",
            "1875/1875 [==============================] - 4s 2ms/step - loss: 0.0143\n",
            "Epoch 181/200\n",
            "1875/1875 [==============================] - 4s 2ms/step - loss: 0.0143\n",
            "Epoch 182/200\n",
            "1875/1875 [==============================] - 4s 2ms/step - loss: 0.0143\n",
            "Epoch 183/200\n",
            "1875/1875 [==============================] - 4s 2ms/step - loss: 0.0143\n",
            "Epoch 184/200\n",
            "1875/1875 [==============================] - 4s 2ms/step - loss: 0.0143\n",
            "Epoch 185/200\n",
            "1875/1875 [==============================] - 4s 2ms/step - loss: 0.0143\n",
            "Epoch 186/200\n",
            "1875/1875 [==============================] - 4s 2ms/step - loss: 0.0143\n",
            "Epoch 187/200\n",
            "1875/1875 [==============================] - 4s 2ms/step - loss: 0.0143\n",
            "Epoch 188/200\n",
            "1875/1875 [==============================] - 4s 2ms/step - loss: 0.0143\n",
            "Epoch 189/200\n",
            "1875/1875 [==============================] - 4s 2ms/step - loss: 0.0143\n",
            "Epoch 190/200\n",
            "1875/1875 [==============================] - 4s 2ms/step - loss: 0.0142\n",
            "Epoch 191/200\n",
            "1875/1875 [==============================] - 4s 2ms/step - loss: 0.0142\n",
            "Epoch 192/200\n",
            "1875/1875 [==============================] - 4s 2ms/step - loss: 0.0142\n",
            "Epoch 193/200\n",
            "1875/1875 [==============================] - 4s 2ms/step - loss: 0.0142\n",
            "Epoch 194/200\n",
            "1875/1875 [==============================] - 4s 2ms/step - loss: 0.0142\n",
            "Epoch 195/200\n",
            "1875/1875 [==============================] - 4s 2ms/step - loss: 0.0142\n",
            "Epoch 196/200\n",
            "1875/1875 [==============================] - 4s 2ms/step - loss: 0.0142\n",
            "Epoch 197/200\n",
            "1875/1875 [==============================] - 4s 2ms/step - loss: 0.0142\n",
            "Epoch 198/200\n",
            "1875/1875 [==============================] - 4s 2ms/step - loss: 0.0142\n",
            "Epoch 199/200\n",
            "1875/1875 [==============================] - 4s 2ms/step - loss: 0.0142\n",
            "Epoch 200/200\n",
            "1875/1875 [==============================] - 4s 2ms/step - loss: 0.0142\n"
          ]
        },
        {
          "output_type": "execute_result",
          "data": {
            "text/plain": [
              "<keras.callbacks.History at 0x7fdbb9e54690>"
            ]
          },
          "metadata": {},
          "execution_count": 20
        }
      ]
    },
    {
      "cell_type": "markdown",
      "metadata": {
        "id": "u4uTMfNoEpm7"
      },
      "source": [
        ""
      ]
    }
  ]
}